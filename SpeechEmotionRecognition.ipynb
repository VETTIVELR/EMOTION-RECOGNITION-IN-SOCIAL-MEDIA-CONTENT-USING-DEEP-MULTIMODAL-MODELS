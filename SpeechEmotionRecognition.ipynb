{
 "cells": [
  {
   "cell_type": "code",
   "execution_count": 3,
   "id": "korean-association",
   "metadata": {
    "_cell_guid": "b1076dfc-b9ad-4769-8c92-a6c4dae69d19",
    "_uuid": "8f2839f25d086af736a60e9eeb907d3b93b6e0e5",
    "execution": {
     "iopub.execute_input": "2023-04-10T09:59:22.807948Z",
     "iopub.status.busy": "2023-04-10T09:59:22.803313Z",
     "iopub.status.idle": "2023-04-10T09:59:32.802109Z",
     "shell.execute_reply": "2023-04-10T09:59:32.802654Z",
     "shell.execute_reply.started": "2023-04-10T09:27:19.207559Z"
    },
    "executionInfo": {
     "elapsed": 805,
     "status": "ok",
     "timestamp": 1683580079971,
     "user": {
      "displayName": "proj tes",
      "userId": "02393573603400182555"
     },
     "user_tz": -330
    },
    "id": "korean-association",
    "papermill": {
     "duration": 10.074327,
     "end_time": "2023-04-10T09:59:32.803010",
     "exception": false,
     "start_time": "2023-04-10T09:59:22.728683",
     "status": "completed"
    },
    "tags": []
   },
   "outputs": [],
   "source": [
    "\n",
    "import random\n",
    "import os\n",
    "import os.path\n",
    "import glob\n",
    "import cv2\n",
    "import imageio\n",
    "import librosa\n",
    "import scipy\n",
    "import librosa.display\n",
    "import IPython\n",
    "from PIL import Image\n",
    "import pandas as pd\n",
    "import numpy as np\n",
    "import seaborn as sns\n",
    "from pathlib import Path\n",
    "import matplotlib.pyplot as plt\n",
    "from IPython.display import Image\n",
    "from IPython.display import Audio\n",
    "from keras.preprocessing import image\n",
    "from tensorflow.keras.preprocessing.image import ImageDataGenerator\n",
    "from sklearn.preprocessing import StandardScaler, OneHotEncoder\n",
    "from keras.utils import to_categorical\n",
    "from sklearn.model_selection import train_test_split\n",
    "from sklearn.preprocessing import LabelEncoder\n",
    "from keras.optimizers import RMSprop,Adam,Optimizer,Optimizer, SGD\n",
    "from tensorflow.keras.models import Sequential\n",
    "from keras.layers import Dense, Dropout, Flatten,Conv1D, AveragePooling1D, MaxPooling1D\n",
    "import tensorflow as tf\n",
    "from keras import backend as K\n",
    "import keras\n"
   ]
  },
  {
   "cell_type": "code",
   "execution_count": 4,
   "id": "sophisticated-plaza",
   "metadata": {
    "execution": {
     "iopub.execute_input": "2023-04-10T09:59:33.238110Z",
     "iopub.status.busy": "2023-04-10T09:59:33.236946Z",
     "iopub.status.idle": "2023-04-10T09:59:33.240451Z",
     "shell.execute_reply": "2023-04-10T09:59:33.239760Z",
     "shell.execute_reply.started": "2023-04-10T09:27:19.225777Z"
    },
    "executionInfo": {
     "elapsed": 483,
     "status": "ok",
     "timestamp": 1683580087172,
     "user": {
      "displayName": "proj tes",
      "userId": "02393573603400182555"
     },
     "user_tz": -330
    },
    "id": "sophisticated-plaza",
    "papermill": {
     "duration": 0.079173,
     "end_time": "2023-04-10T09:59:33.240610",
     "exception": false,
     "start_time": "2023-04-10T09:59:33.161437",
     "status": "completed"
    },
    "tags": []
   },
   "outputs": [],
   "source": [
    "Main_WAV_Path = Path(\"./speechdata\")"
   ]
  },
  {
   "cell_type": "code",
   "execution_count": 5,
   "id": "brown-guyana",
   "metadata": {
    "execution": {
     "iopub.execute_input": "2023-04-10T09:59:33.534486Z",
     "iopub.status.busy": "2023-04-10T09:59:33.533784Z",
     "iopub.status.idle": "2023-04-10T09:59:34.049999Z",
     "shell.execute_reply": "2023-04-10T09:59:34.050557Z",
     "shell.execute_reply.started": "2023-04-10T09:27:19.243389Z"
    },
    "executionInfo": {
     "elapsed": 727,
     "status": "ok",
     "timestamp": 1683580089889,
     "user": {
      "displayName": "proj tes",
      "userId": "02393573603400182555"
     },
     "user_tz": -330
    },
    "id": "brown-guyana",
    "papermill": {
     "duration": 0.592151,
     "end_time": "2023-04-10T09:59:34.050752",
     "exception": false,
     "start_time": "2023-04-10T09:59:33.458601",
     "status": "completed"
    },
    "tags": []
   },
   "outputs": [],
   "source": [
    "Wav_Path = list(Main_WAV_Path.glob(r\"**/*.wav\"))"
   ]
  },
  {
   "cell_type": "code",
   "execution_count": 6,
   "id": "julian-receptor",
   "metadata": {
    "execution": {
     "iopub.execute_input": "2023-04-10T09:59:34.337208Z",
     "iopub.status.busy": "2023-04-10T09:59:34.336513Z",
     "iopub.status.idle": "2023-04-10T09:59:34.354301Z",
     "shell.execute_reply": "2023-04-10T09:59:34.354856Z",
     "shell.execute_reply.started": "2023-04-10T09:27:19.294345Z"
    },
    "executionInfo": {
     "elapsed": 3,
     "status": "ok",
     "timestamp": 1683580092754,
     "user": {
      "displayName": "proj tes",
      "userId": "02393573603400182555"
     },
     "user_tz": -330
    },
    "id": "julian-receptor",
    "papermill": {
     "duration": 0.09242,
     "end_time": "2023-04-10T09:59:34.355043",
     "exception": false,
     "start_time": "2023-04-10T09:59:34.262623",
     "status": "completed"
    },
    "tags": []
   },
   "outputs": [],
   "source": [
    "Wav_Labels = list(map(lambda x: os.path.split(os.path.split(x)[0])[1],Wav_Path))"
   ]
  },
  {
   "cell_type": "code",
   "execution_count": 7,
   "id": "uniform-basin",
   "metadata": {
    "execution": {
     "iopub.execute_input": "2023-04-10T09:59:34.655572Z",
     "iopub.status.busy": "2023-04-10T09:59:34.654533Z",
     "iopub.status.idle": "2023-04-10T09:59:34.656944Z",
     "shell.execute_reply": "2023-04-10T09:59:34.657557Z",
     "shell.execute_reply.started": "2023-04-10T09:27:19.314152Z"
    },
    "executionInfo": {
     "elapsed": 4,
     "status": "ok",
     "timestamp": 1683580093195,
     "user": {
      "displayName": "proj tes",
      "userId": "02393573603400182555"
     },
     "user_tz": -330
    },
    "id": "uniform-basin",
    "papermill": {
     "duration": 0.085347,
     "end_time": "2023-04-10T09:59:34.657745",
     "exception": false,
     "start_time": "2023-04-10T09:59:34.572398",
     "status": "completed"
    },
    "tags": []
   },
   "outputs": [],
   "source": [
    "Wav_Path_Series = pd.Series(Wav_Path,name=\"WAV\").astype(str)\n",
    "Wav_Labels_Series = pd.Series(Wav_Labels,name=\"EMOTION\")"
   ]
  },
  {
   "cell_type": "code",
   "execution_count": 8,
   "id": "precise-victor",
   "metadata": {
    "execution": {
     "iopub.execute_input": "2023-04-10T09:59:34.944062Z",
     "iopub.status.busy": "2023-04-10T09:59:34.943089Z",
     "iopub.status.idle": "2023-04-10T09:59:34.948905Z",
     "shell.execute_reply": "2023-04-10T09:59:34.949443Z",
     "shell.execute_reply.started": "2023-04-10T09:27:19.330533Z"
    },
    "executionInfo": {
     "elapsed": 5,
     "status": "ok",
     "timestamp": 1683580096122,
     "user": {
      "displayName": "proj tes",
      "userId": "02393573603400182555"
     },
     "user_tz": -330
    },
    "id": "precise-victor",
    "papermill": {
     "duration": 0.080021,
     "end_time": "2023-04-10T09:59:34.949621",
     "exception": false,
     "start_time": "2023-04-10T09:59:34.869600",
     "status": "completed"
    },
    "tags": []
   },
   "outputs": [],
   "source": [
    "Main_Wav_Data = pd.concat([Wav_Path_Series,Wav_Labels_Series],axis=1)"
   ]
  },
  {
   "cell_type": "code",
   "execution_count": 9,
   "id": "united-interaction",
   "metadata": {
    "colab": {
     "base_uri": "https://localhost:8080/"
    },
    "execution": {
     "iopub.execute_input": "2023-04-10T09:59:35.094673Z",
     "iopub.status.busy": "2023-04-10T09:59:35.093654Z",
     "iopub.status.idle": "2023-04-10T09:59:35.112558Z",
     "shell.execute_reply": "2023-04-10T09:59:35.113160Z",
     "shell.execute_reply.started": "2023-04-10T09:27:19.347073Z"
    },
    "executionInfo": {
     "elapsed": 4,
     "status": "ok",
     "timestamp": 1683580096122,
     "user": {
      "displayName": "proj tes",
      "userId": "02393573603400182555"
     },
     "user_tz": -330
    },
    "id": "united-interaction",
    "outputId": "fbc86667-4424-472b-99fc-d3d280e727af",
    "papermill": {
     "duration": 0.093134,
     "end_time": "2023-04-10T09:59:35.113359",
     "exception": false,
     "start_time": "2023-04-10T09:59:35.020225",
     "status": "completed"
    },
    "tags": []
   },
   "outputs": [
    {
     "name": "stdout",
     "output_type": "stream",
     "text": [
      "                                          WAV    EMOTION\n",
      "0     speechdata\\OAF_angry\\OAF_back_angry.wav  OAF_angry\n",
      "1      speechdata\\OAF_angry\\OAF_bar_angry.wav  OAF_angry\n",
      "2     speechdata\\OAF_angry\\OAF_base_angry.wav  OAF_angry\n",
      "3     speechdata\\OAF_angry\\OAF_bath_angry.wav  OAF_angry\n",
      "4     speechdata\\OAF_angry\\OAF_bean_angry.wav  OAF_angry\n",
      "...                                       ...        ...\n",
      "2794      speechdata\\YAF_sad\\YAF_wire_sad.wav    YAF_sad\n",
      "2795     speechdata\\YAF_sad\\YAF_witch_sad.wav    YAF_sad\n",
      "2796     speechdata\\YAF_sad\\YAF_yearn_sad.wav    YAF_sad\n",
      "2797       speechdata\\YAF_sad\\YAF_yes_sad.wav    YAF_sad\n",
      "2798     speechdata\\YAF_sad\\YAF_young_sad.wav    YAF_sad\n",
      "\n",
      "[2799 rows x 2 columns]\n"
     ]
    }
   ],
   "source": [
    "print(Main_Wav_Data.head(-1))"
   ]
  },
  {
   "cell_type": "code",
   "execution_count": 10,
   "id": "premium-vinyl",
   "metadata": {
    "colab": {
     "base_uri": "https://localhost:8080/"
    },
    "execution": {
     "iopub.execute_input": "2023-04-10T09:59:35.262464Z",
     "iopub.status.busy": "2023-04-10T09:59:35.261444Z",
     "iopub.status.idle": "2023-04-10T09:59:35.270602Z",
     "shell.execute_reply": "2023-04-10T09:59:35.271119Z",
     "shell.execute_reply.started": "2023-04-10T09:27:19.364829Z"
    },
    "executionInfo": {
     "elapsed": 948,
     "status": "ok",
     "timestamp": 1683580103975,
     "user": {
      "displayName": "proj tes",
      "userId": "02393573603400182555"
     },
     "user_tz": -330
    },
    "id": "premium-vinyl",
    "outputId": "5106f350-5e66-4b96-ab97-f0effc852328",
    "papermill": {
     "duration": 0.085196,
     "end_time": "2023-04-10T09:59:35.271349",
     "exception": false,
     "start_time": "2023-04-10T09:59:35.186153",
     "status": "completed"
    },
    "tags": []
   },
   "outputs": [
    {
     "name": "stdout",
     "output_type": "stream",
     "text": [
      "EMOTION\n",
      "OAF_angry                 200\n",
      "OAF_disgust               200\n",
      "OAF_Fear                  200\n",
      "OAF_happy                 200\n",
      "OAF_neutral               200\n",
      "OAF_Pleasant_surprise     200\n",
      "OAF_Sad                   200\n",
      "YAF_angry                 200\n",
      "YAF_disgust               200\n",
      "YAF_fear                  200\n",
      "YAF_happy                 200\n",
      "YAF_neutral               200\n",
      "YAF_pleasant_surprised    200\n",
      "YAF_sad                   200\n",
      "Name: count, dtype: int64\n"
     ]
    }
   ],
   "source": [
    "print(Main_Wav_Data[\"EMOTION\"].value_counts())"
   ]
  },
  {
   "cell_type": "code",
   "execution_count": 11,
   "id": "instant-harvest",
   "metadata": {
    "execution": {
     "iopub.execute_input": "2023-04-10T09:59:35.572249Z",
     "iopub.status.busy": "2023-04-10T09:59:35.570904Z",
     "iopub.status.idle": "2023-04-10T09:59:35.574246Z",
     "shell.execute_reply": "2023-04-10T09:59:35.574735Z",
     "shell.execute_reply.started": "2023-04-10T09:27:19.378091Z"
    },
    "executionInfo": {
     "elapsed": 401,
     "status": "ok",
     "timestamp": 1683580109468,
     "user": {
      "displayName": "proj tes",
      "userId": "02393573603400182555"
     },
     "user_tz": -330
    },
    "id": "instant-harvest",
    "papermill": {
     "duration": 0.086835,
     "end_time": "2023-04-10T09:59:35.574977",
     "exception": false,
     "start_time": "2023-04-10T09:59:35.488142",
     "status": "completed"
    },
    "tags": []
   },
   "outputs": [],
   "source": [
    "Main_Wav_Data = Main_Wav_Data.sample(frac=1).reset_index(drop=True)"
   ]
  },
  {
   "cell_type": "code",
   "execution_count": 12,
   "id": "infrared-anatomy",
   "metadata": {
    "colab": {
     "base_uri": "https://localhost:8080/"
    },
    "execution": {
     "iopub.execute_input": "2023-04-10T09:59:35.744748Z",
     "iopub.status.busy": "2023-04-10T09:59:35.743903Z",
     "iopub.status.idle": "2023-04-10T09:59:35.747987Z",
     "shell.execute_reply": "2023-04-10T09:59:35.747404Z",
     "shell.execute_reply.started": "2023-04-10T09:27:19.389206Z"
    },
    "executionInfo": {
     "elapsed": 4,
     "status": "ok",
     "timestamp": 1683580109869,
     "user": {
      "displayName": "proj tes",
      "userId": "02393573603400182555"
     },
     "user_tz": -330
    },
    "id": "infrared-anatomy",
    "outputId": "8507aa0b-1df0-44ec-f923-29fb6ba761a1",
    "papermill": {
     "duration": 0.084919,
     "end_time": "2023-04-10T09:59:35.748140",
     "exception": false,
     "start_time": "2023-04-10T09:59:35.663221",
     "status": "completed"
    },
    "tags": []
   },
   "outputs": [
    {
     "name": "stdout",
     "output_type": "stream",
     "text": [
      "                                                    WAV                EMOTION\n",
      "0                speechdata\\OAF_Fear\\OAF_cheek_fear.wav               OAF_Fear\n",
      "1              speechdata\\OAF_angry\\OAF_mouse_angry.wav              OAF_angry\n",
      "2                  speechdata\\YAF_fear\\YAF_lot_fear.wav               YAF_fear\n",
      "3                 speechdata\\YAF_sad\\YAF_choice_sad.wav                YAF_sad\n",
      "4           speechdata\\YAF_neutral\\YAF_sour_neutral.wav            YAF_neutral\n",
      "...                                                 ...                    ...\n",
      "2794   speechdata\\OAF_Pleasant_surprise\\OAF_soup_ps.wav  OAF_Pleasant_surprise\n",
      "2795             speechdata\\YAF_fear\\YAF_chalk_fear.wav               YAF_fear\n",
      "2796               speechdata\\OAF_Sad\\OAF_ditch_sad.wav                OAF_Sad\n",
      "2797  speechdata\\OAF_Pleasant_surprise\\OAF_cheek_ps.wav  OAF_Pleasant_surprise\n",
      "2798         speechdata\\OAF_angry\\OAF_thought_angry.wav              OAF_angry\n",
      "\n",
      "[2799 rows x 2 columns]\n"
     ]
    }
   ],
   "source": [
    "print(Main_Wav_Data.head(-1))"
   ]
  },
  {
   "cell_type": "code",
   "execution_count": 13,
   "id": "hollywood-transsexual",
   "metadata": {
    "execution": {
     "iopub.execute_input": "2023-04-10T09:59:36.197677Z",
     "iopub.status.busy": "2023-04-10T09:59:36.196950Z",
     "iopub.status.idle": "2023-04-10T09:59:36.199582Z",
     "shell.execute_reply": "2023-04-10T09:59:36.199069Z",
     "shell.execute_reply.started": "2023-04-10T09:27:19.404457Z"
    },
    "executionInfo": {
     "elapsed": 1453,
     "status": "ok",
     "timestamp": 1683580638928,
     "user": {
      "displayName": "proj tes",
      "userId": "02393573603400182555"
     },
     "user_tz": -330
    },
    "id": "hollywood-transsexual",
    "papermill": {
     "duration": 0.082211,
     "end_time": "2023-04-10T09:59:36.199730",
     "exception": false,
     "start_time": "2023-04-10T09:59:36.117519",
     "status": "completed"
    },
    "tags": []
   },
   "outputs": [],
   "source": [
    "def add_noise(data):\n",
    "    noise_value = 0.015 * np.random.uniform() * np.amax(data)\n",
    "    data = data + noise_value * np.random.normal(size=data.shape[0])\n",
    "    \n",
    "    return data"
   ]
  },
  {
   "cell_type": "code",
   "execution_count": 14,
   "id": "welcome-jones",
   "metadata": {
    "execution": {
     "iopub.execute_input": "2023-04-10T09:59:36.500585Z",
     "iopub.status.busy": "2023-04-10T09:59:36.499581Z",
     "iopub.status.idle": "2023-04-10T09:59:36.503779Z",
     "shell.execute_reply": "2023-04-10T09:59:36.504366Z",
     "shell.execute_reply.started": "2023-04-10T09:27:19.413384Z"
    },
    "executionInfo": {
     "elapsed": 108,
     "status": "ok",
     "timestamp": 1683580640815,
     "user": {
      "displayName": "proj tes",
      "userId": "02393573603400182555"
     },
     "user_tz": -330
    },
    "id": "welcome-jones",
    "papermill": {
     "duration": 0.079986,
     "end_time": "2023-04-10T09:59:36.504558",
     "exception": false,
     "start_time": "2023-04-10T09:59:36.424572",
     "status": "completed"
    },
    "tags": []
   },
   "outputs": [],
   "source": [
    "def stretch_process(data,rate=0.8):\n",
    "    \n",
    "    return librosa.effects.time_stretch(data,rate=0.8)"
   ]
  },
  {
   "cell_type": "code",
   "execution_count": 15,
   "id": "desirable-scotland",
   "metadata": {
    "execution": {
     "iopub.execute_input": "2023-04-10T09:59:36.796906Z",
     "iopub.status.busy": "2023-04-10T09:59:36.795879Z",
     "iopub.status.idle": "2023-04-10T09:59:36.800660Z",
     "shell.execute_reply": "2023-04-10T09:59:36.801140Z",
     "shell.execute_reply.started": "2023-04-10T09:27:19.422054Z"
    },
    "executionInfo": {
     "elapsed": 108,
     "status": "ok",
     "timestamp": 1683580640816,
     "user": {
      "displayName": "proj tes",
      "userId": "02393573603400182555"
     },
     "user_tz": -330
    },
    "id": "desirable-scotland",
    "papermill": {
     "duration": 0.080496,
     "end_time": "2023-04-10T09:59:36.801328",
     "exception": false,
     "start_time": "2023-04-10T09:59:36.720832",
     "status": "completed"
    },
    "tags": []
   },
   "outputs": [],
   "source": [
    "def shift_process(data):\n",
    "    shift_range = int(np.random.uniform(low=-5,high=5) * 1000)\n",
    "    \n",
    "    return np.roll(data,shift_range)"
   ]
  },
  {
   "cell_type": "code",
   "execution_count": 16,
   "id": "naughty-gallery",
   "metadata": {
    "execution": {
     "iopub.execute_input": "2023-04-10T09:59:37.092530Z",
     "iopub.status.busy": "2023-04-10T09:59:37.091532Z",
     "iopub.status.idle": "2023-04-10T09:59:37.095773Z",
     "shell.execute_reply": "2023-04-10T09:59:37.096250Z",
     "shell.execute_reply.started": "2023-04-10T09:27:19.433347Z"
    },
    "executionInfo": {
     "elapsed": 610,
     "status": "ok",
     "timestamp": 1683581212409,
     "user": {
      "displayName": "proj tes",
      "userId": "02393573603400182555"
     },
     "user_tz": -330
    },
    "id": "naughty-gallery",
    "papermill": {
     "duration": 0.079893,
     "end_time": "2023-04-10T09:59:37.096448",
     "exception": false,
     "start_time": "2023-04-10T09:59:37.016555",
     "status": "completed"
    },
    "tags": []
   },
   "outputs": [],
   "source": [
    "def pitch_process(data,sampling_rate,pitch_factor=0.7):\n",
    "    \n",
    "    return librosa.effects.pitch_shift(data,sr=sampling_rate,n_steps=3)"
   ]
  },
  {
   "cell_type": "code",
   "execution_count": 22,
   "id": "minute-scroll",
   "metadata": {
    "execution": {
     "iopub.execute_input": "2023-04-10T09:59:37.389683Z",
     "iopub.status.busy": "2023-04-10T09:59:37.388638Z",
     "iopub.status.idle": "2023-04-10T09:59:37.396807Z",
     "shell.execute_reply": "2023-04-10T09:59:37.397395Z",
     "shell.execute_reply.started": "2023-04-10T09:27:19.445701Z"
    },
    "executionInfo": {
     "elapsed": 730,
     "status": "ok",
     "timestamp": 1683581214684,
     "user": {
      "displayName": "proj tes",
      "userId": "02393573603400182555"
     },
     "user_tz": -330
    },
    "id": "minute-scroll",
    "papermill": {
     "duration": 0.084472,
     "end_time": "2023-04-10T09:59:37.397581",
     "exception": false,
     "start_time": "2023-04-10T09:59:37.313109",
     "status": "completed"
    },
    "tags": []
   },
   "outputs": [],
   "source": [
    "def extract_process(data,sample_rate):\n",
    "    \n",
    "    output_result = np.array([])\n",
    "    mean_zero = np.mean(librosa.feature.zero_crossing_rate(y=data).T,axis=0)\n",
    "    output_result = np.hstack((output_result,mean_zero))\n",
    "    \n",
    "    stft_out = np.abs(librosa.stft(data))\n",
    "    chroma_stft = np.mean(librosa.feature.chroma_stft(S=stft_out,sr=sample_rate).T,axis=0)\n",
    "    output_result = np.hstack((output_result,chroma_stft))\n",
    "    \n",
    "    mfcc_out = np.mean(librosa.feature.mfcc(y=data,sr=sample_rate).T,axis=0)\n",
    "    output_result = np.hstack((output_result,mfcc_out))\n",
    "    \n",
    "    root_mean_out = np.mean(librosa.feature.rms(y=data).T,axis=0)\n",
    "    output_result = np.hstack((output_result,root_mean_out))\n",
    "    \n",
    "    mel_spectogram = np.mean(librosa.feature.melspectrogram(y=data,sr=sample_rate).T,axis=0)\n",
    "    output_result = np.hstack((output_result,mel_spectogram))\n",
    "    \n",
    "    return output_result"
   ]
  },
  {
   "cell_type": "code",
   "execution_count": 25,
   "id": "integrated-preference",
   "metadata": {
    "execution": {
     "iopub.execute_input": "2023-04-10T09:59:37.688610Z",
     "iopub.status.busy": "2023-04-10T09:59:37.687634Z",
     "iopub.status.idle": "2023-04-10T09:59:37.693671Z",
     "shell.execute_reply": "2023-04-10T09:59:37.694220Z",
     "shell.execute_reply.started": "2023-04-10T09:27:19.459208Z"
    },
    "executionInfo": {
     "elapsed": 3,
     "status": "ok",
     "timestamp": 1683581216643,
     "user": {
      "displayName": "proj tes",
      "userId": "02393573603400182555"
     },
     "user_tz": -330
    },
    "id": "integrated-preference",
    "papermill": {
     "duration": 0.08135,
     "end_time": "2023-04-10T09:59:37.694425",
     "exception": false,
     "start_time": "2023-04-10T09:59:37.613075",
     "status": "completed"
    },
    "tags": []
   },
   "outputs": [],
   "source": [
    "def export_process(path):\n",
    "    \n",
    "    data,sample_rate = librosa.load(path,duration=2.5,offset=0.6)\n",
    "    \n",
    "    output_1 = extract_process(data,sample_rate)\n",
    "    result = np.array(output_1)\n",
    "    \n",
    "    noise_out = add_noise(data)\n",
    "    output_2 = extract_process(noise_out,sample_rate)\n",
    "    result = np.vstack((result,output_2))\n",
    "    \n",
    "    new_out = stretch_process(data)\n",
    "    strectch_pitch = pitch_process(new_out,sample_rate)\n",
    "    output_3 = extract_process(strectch_pitch,sample_rate)\n",
    "    result = np.vstack((result,output_3))\n",
    "    \n",
    "    return result"
   ]
  },
  {
   "cell_type": "code",
   "execution_count": 26,
   "id": "hungry-variance",
   "metadata": {
    "execution": {
     "iopub.execute_input": "2023-04-10T09:59:50.193446Z",
     "iopub.status.busy": "2023-04-10T09:59:50.192696Z",
     "iopub.status.idle": "2023-04-10T10:14:58.331324Z",
     "shell.execute_reply": "2023-04-10T10:14:58.332227Z",
     "shell.execute_reply.started": "2023-04-10T09:27:23.825586Z"
    },
    "id": "hungry-variance",
    "papermill": {
     "duration": 908.286544,
     "end_time": "2023-04-10T10:14:58.332539",
     "exception": false,
     "start_time": "2023-04-10T09:59:50.045995",
     "status": "completed"
    },
    "tags": []
   },
   "outputs": [],
   "source": [
    "x_Train, y_Train = [],[]\n",
    "\n",
    "for path,emotion in zip(Main_Wav_Data.WAV,Main_Wav_Data.EMOTION):\n",
    "    \n",
    "    features = export_process(path)\n",
    "    \n",
    "    for element in features:\n",
    "        x_Train.append(element)\n",
    "        y_Train.append(emotion)"
   ]
  },
  {
   "cell_type": "code",
   "execution_count": 27,
   "id": "immediate-parade",
   "metadata": {
    "execution": {
     "iopub.execute_input": "2023-04-10T10:14:58.673916Z",
     "iopub.status.busy": "2023-04-10T10:14:58.673108Z",
     "iopub.status.idle": "2023-04-10T10:14:58.676583Z",
     "shell.execute_reply": "2023-04-10T10:14:58.677185Z",
     "shell.execute_reply.started": "2023-04-10T09:45:22.847184Z"
    },
    "id": "immediate-parade",
    "papermill": {
     "duration": 0.156147,
     "end_time": "2023-04-10T10:14:58.677375",
     "exception": false,
     "start_time": "2023-04-10T10:14:58.521228",
     "status": "completed"
    },
    "tags": []
   },
   "outputs": [
    {
     "name": "stdout",
     "output_type": "stream",
     "text": [
      "8400\n",
      "8400\n",
      "2800\n"
     ]
    }
   ],
   "source": [
    "print(len(x_Train))\n",
    "print(len(y_Train))\n",
    "print(len(Main_Wav_Data.WAV))"
   ]
  },
  {
   "cell_type": "code",
   "execution_count": 28,
   "id": "elementary-miller",
   "metadata": {
    "execution": {
     "iopub.execute_input": "2023-04-10T10:14:58.969301Z",
     "iopub.status.busy": "2023-04-10T10:14:58.968481Z",
     "iopub.status.idle": "2023-04-10T10:14:58.971724Z",
     "shell.execute_reply": "2023-04-10T10:14:58.972226Z",
     "shell.execute_reply.started": "2023-04-10T09:45:22.859691Z"
    },
    "id": "elementary-miller",
    "papermill": {
     "duration": 0.151434,
     "end_time": "2023-04-10T10:14:58.972416",
     "exception": false,
     "start_time": "2023-04-10T10:14:58.820982",
     "status": "completed"
    },
    "tags": []
   },
   "outputs": [
    {
     "name": "stdout",
     "output_type": "stream",
     "text": [
      "(162,)\n"
     ]
    }
   ],
   "source": [
    "print(x_Train[0].shape)"
   ]
  },
  {
   "cell_type": "code",
   "execution_count": 29,
   "id": "first-rental",
   "metadata": {
    "execution": {
     "iopub.execute_input": "2023-04-10T10:14:59.267234Z",
     "iopub.status.busy": "2023-04-10T10:14:59.266500Z",
     "iopub.status.idle": "2023-04-10T10:14:59.270235Z",
     "shell.execute_reply": "2023-04-10T10:14:59.269671Z",
     "shell.execute_reply.started": "2023-04-10T09:45:22.875952Z"
    },
    "id": "first-rental",
    "papermill": {
     "duration": 0.15114,
     "end_time": "2023-04-10T10:14:59.270395",
     "exception": false,
     "start_time": "2023-04-10T10:14:59.119255",
     "status": "completed"
    },
    "tags": []
   },
   "outputs": [
    {
     "name": "stdout",
     "output_type": "stream",
     "text": [
      "['OAF_Fear', 'OAF_Fear', 'OAF_Fear', 'OAF_angry', 'OAF_angry']\n"
     ]
    }
   ],
   "source": [
    "print(y_Train[0:5])"
   ]
  },
  {
   "cell_type": "code",
   "execution_count": 30,
   "id": "modified-christmas",
   "metadata": {
    "execution": {
     "iopub.execute_input": "2023-04-10T10:14:59.562730Z",
     "iopub.status.busy": "2023-04-10T10:14:59.562086Z",
     "iopub.status.idle": "2023-04-10T10:15:02.399395Z",
     "shell.execute_reply": "2023-04-10T10:15:02.398560Z",
     "shell.execute_reply.started": "2023-04-10T09:45:22.890031Z"
    },
    "id": "modified-christmas",
    "papermill": {
     "duration": 2.983523,
     "end_time": "2023-04-10T10:15:02.399574",
     "exception": false,
     "start_time": "2023-04-10T10:14:59.416051",
     "status": "completed"
    },
    "tags": []
   },
   "outputs": [],
   "source": [
    "New_Features_Wav = pd.DataFrame(x_Train)\n",
    "New_Features_Wav[\"EMOTIONS\"] = y_Train\n",
    "\n",
    "New_Features_Wav.to_csv(\"New_Wav_Set.csv\",index=False)"
   ]
  },
  {
   "cell_type": "code",
   "execution_count": 31,
   "id": "according-shanghai",
   "metadata": {
    "execution": {
     "iopub.execute_input": "2023-04-10T10:15:02.694995Z",
     "iopub.status.busy": "2023-04-10T10:15:02.693942Z",
     "iopub.status.idle": "2023-04-10T10:15:02.730901Z",
     "shell.execute_reply": "2023-04-10T10:15:02.730317Z",
     "shell.execute_reply.started": "2023-04-10T09:45:25.778975Z"
    },
    "id": "according-shanghai",
    "papermill": {
     "duration": 0.187215,
     "end_time": "2023-04-10T10:15:02.731049",
     "exception": false,
     "start_time": "2023-04-10T10:15:02.543834",
     "status": "completed"
    },
    "tags": []
   },
   "outputs": [
    {
     "data": {
      "text/html": [
       "<div>\n",
       "<style scoped>\n",
       "    .dataframe tbody tr th:only-of-type {\n",
       "        vertical-align: middle;\n",
       "    }\n",
       "\n",
       "    .dataframe tbody tr th {\n",
       "        vertical-align: top;\n",
       "    }\n",
       "\n",
       "    .dataframe thead th {\n",
       "        text-align: right;\n",
       "    }\n",
       "</style>\n",
       "<table border=\"1\" class=\"dataframe\">\n",
       "  <thead>\n",
       "    <tr style=\"text-align: right;\">\n",
       "      <th></th>\n",
       "      <th>0</th>\n",
       "      <th>1</th>\n",
       "      <th>2</th>\n",
       "      <th>3</th>\n",
       "      <th>4</th>\n",
       "      <th>5</th>\n",
       "      <th>6</th>\n",
       "      <th>7</th>\n",
       "      <th>8</th>\n",
       "      <th>9</th>\n",
       "      <th>...</th>\n",
       "      <th>153</th>\n",
       "      <th>154</th>\n",
       "      <th>155</th>\n",
       "      <th>156</th>\n",
       "      <th>157</th>\n",
       "      <th>158</th>\n",
       "      <th>159</th>\n",
       "      <th>160</th>\n",
       "      <th>161</th>\n",
       "      <th>EMOTIONS</th>\n",
       "    </tr>\n",
       "  </thead>\n",
       "  <tbody>\n",
       "    <tr>\n",
       "      <th>0</th>\n",
       "      <td>0.076508</td>\n",
       "      <td>0.425905</td>\n",
       "      <td>0.558566</td>\n",
       "      <td>0.627117</td>\n",
       "      <td>0.545209</td>\n",
       "      <td>0.460036</td>\n",
       "      <td>0.392065</td>\n",
       "      <td>0.318045</td>\n",
       "      <td>0.290940</td>\n",
       "      <td>0.370484</td>\n",
       "      <td>...</td>\n",
       "      <td>0.000295</td>\n",
       "      <td>0.000290</td>\n",
       "      <td>0.000281</td>\n",
       "      <td>0.000271</td>\n",
       "      <td>0.000135</td>\n",
       "      <td>0.000106</td>\n",
       "      <td>0.000114</td>\n",
       "      <td>0.000104</td>\n",
       "      <td>0.000009</td>\n",
       "      <td>OAF_Fear</td>\n",
       "    </tr>\n",
       "    <tr>\n",
       "      <th>1</th>\n",
       "      <td>0.175425</td>\n",
       "      <td>0.490825</td>\n",
       "      <td>0.676393</td>\n",
       "      <td>0.723008</td>\n",
       "      <td>0.630245</td>\n",
       "      <td>0.565593</td>\n",
       "      <td>0.475558</td>\n",
       "      <td>0.417674</td>\n",
       "      <td>0.398990</td>\n",
       "      <td>0.488653</td>\n",
       "      <td>...</td>\n",
       "      <td>0.000459</td>\n",
       "      <td>0.000458</td>\n",
       "      <td>0.000462</td>\n",
       "      <td>0.000457</td>\n",
       "      <td>0.000328</td>\n",
       "      <td>0.000271</td>\n",
       "      <td>0.000296</td>\n",
       "      <td>0.000307</td>\n",
       "      <td>0.000205</td>\n",
       "      <td>OAF_Fear</td>\n",
       "    </tr>\n",
       "    <tr>\n",
       "      <th>2</th>\n",
       "      <td>0.098185</td>\n",
       "      <td>0.446758</td>\n",
       "      <td>0.352680</td>\n",
       "      <td>0.381252</td>\n",
       "      <td>0.373236</td>\n",
       "      <td>0.489176</td>\n",
       "      <td>0.597108</td>\n",
       "      <td>0.485667</td>\n",
       "      <td>0.428310</td>\n",
       "      <td>0.366864</td>\n",
       "      <td>...</td>\n",
       "      <td>0.000216</td>\n",
       "      <td>0.000143</td>\n",
       "      <td>0.000109</td>\n",
       "      <td>0.000064</td>\n",
       "      <td>0.000101</td>\n",
       "      <td>0.000098</td>\n",
       "      <td>0.000046</td>\n",
       "      <td>0.000030</td>\n",
       "      <td>0.000002</td>\n",
       "      <td>OAF_Fear</td>\n",
       "    </tr>\n",
       "    <tr>\n",
       "      <th>3</th>\n",
       "      <td>0.080545</td>\n",
       "      <td>0.637043</td>\n",
       "      <td>0.402595</td>\n",
       "      <td>0.354304</td>\n",
       "      <td>0.439552</td>\n",
       "      <td>0.527001</td>\n",
       "      <td>0.354342</td>\n",
       "      <td>0.337670</td>\n",
       "      <td>0.444431</td>\n",
       "      <td>0.447895</td>\n",
       "      <td>...</td>\n",
       "      <td>0.000122</td>\n",
       "      <td>0.000083</td>\n",
       "      <td>0.000207</td>\n",
       "      <td>0.000333</td>\n",
       "      <td>0.000209</td>\n",
       "      <td>0.000153</td>\n",
       "      <td>0.000108</td>\n",
       "      <td>0.000109</td>\n",
       "      <td>0.000008</td>\n",
       "      <td>OAF_angry</td>\n",
       "    </tr>\n",
       "    <tr>\n",
       "      <th>4</th>\n",
       "      <td>0.141326</td>\n",
       "      <td>0.720279</td>\n",
       "      <td>0.557174</td>\n",
       "      <td>0.444992</td>\n",
       "      <td>0.481960</td>\n",
       "      <td>0.578639</td>\n",
       "      <td>0.423770</td>\n",
       "      <td>0.371503</td>\n",
       "      <td>0.473347</td>\n",
       "      <td>0.500792</td>\n",
       "      <td>...</td>\n",
       "      <td>0.000376</td>\n",
       "      <td>0.000372</td>\n",
       "      <td>0.000468</td>\n",
       "      <td>0.000585</td>\n",
       "      <td>0.000449</td>\n",
       "      <td>0.000390</td>\n",
       "      <td>0.000341</td>\n",
       "      <td>0.000339</td>\n",
       "      <td>0.000265</td>\n",
       "      <td>OAF_angry</td>\n",
       "    </tr>\n",
       "    <tr>\n",
       "      <th>...</th>\n",
       "      <td>...</td>\n",
       "      <td>...</td>\n",
       "      <td>...</td>\n",
       "      <td>...</td>\n",
       "      <td>...</td>\n",
       "      <td>...</td>\n",
       "      <td>...</td>\n",
       "      <td>...</td>\n",
       "      <td>...</td>\n",
       "      <td>...</td>\n",
       "      <td>...</td>\n",
       "      <td>...</td>\n",
       "      <td>...</td>\n",
       "      <td>...</td>\n",
       "      <td>...</td>\n",
       "      <td>...</td>\n",
       "      <td>...</td>\n",
       "      <td>...</td>\n",
       "      <td>...</td>\n",
       "      <td>...</td>\n",
       "      <td>...</td>\n",
       "    </tr>\n",
       "    <tr>\n",
       "      <th>8394</th>\n",
       "      <td>0.108655</td>\n",
       "      <td>0.673711</td>\n",
       "      <td>0.554280</td>\n",
       "      <td>0.548467</td>\n",
       "      <td>0.536860</td>\n",
       "      <td>0.456404</td>\n",
       "      <td>0.388764</td>\n",
       "      <td>0.365634</td>\n",
       "      <td>0.364626</td>\n",
       "      <td>0.430392</td>\n",
       "      <td>...</td>\n",
       "      <td>0.000177</td>\n",
       "      <td>0.000192</td>\n",
       "      <td>0.000164</td>\n",
       "      <td>0.000187</td>\n",
       "      <td>0.000098</td>\n",
       "      <td>0.000054</td>\n",
       "      <td>0.000052</td>\n",
       "      <td>0.000040</td>\n",
       "      <td>0.000004</td>\n",
       "      <td>OAF_angry</td>\n",
       "    </tr>\n",
       "    <tr>\n",
       "      <th>8395</th>\n",
       "      <td>0.124109</td>\n",
       "      <td>0.683944</td>\n",
       "      <td>0.562215</td>\n",
       "      <td>0.569900</td>\n",
       "      <td>0.559503</td>\n",
       "      <td>0.494660</td>\n",
       "      <td>0.409075</td>\n",
       "      <td>0.390500</td>\n",
       "      <td>0.394605</td>\n",
       "      <td>0.435828</td>\n",
       "      <td>...</td>\n",
       "      <td>0.000194</td>\n",
       "      <td>0.000206</td>\n",
       "      <td>0.000180</td>\n",
       "      <td>0.000202</td>\n",
       "      <td>0.000111</td>\n",
       "      <td>0.000074</td>\n",
       "      <td>0.000069</td>\n",
       "      <td>0.000057</td>\n",
       "      <td>0.000020</td>\n",
       "      <td>OAF_angry</td>\n",
       "    </tr>\n",
       "    <tr>\n",
       "      <th>8396</th>\n",
       "      <td>0.130670</td>\n",
       "      <td>0.499005</td>\n",
       "      <td>0.549556</td>\n",
       "      <td>0.588037</td>\n",
       "      <td>0.637856</td>\n",
       "      <td>0.477407</td>\n",
       "      <td>0.550121</td>\n",
       "      <td>0.462721</td>\n",
       "      <td>0.376556</td>\n",
       "      <td>0.342688</td>\n",
       "      <td>...</td>\n",
       "      <td>0.000170</td>\n",
       "      <td>0.000218</td>\n",
       "      <td>0.000235</td>\n",
       "      <td>0.000184</td>\n",
       "      <td>0.000082</td>\n",
       "      <td>0.000059</td>\n",
       "      <td>0.000037</td>\n",
       "      <td>0.000024</td>\n",
       "      <td>0.000003</td>\n",
       "      <td>OAF_angry</td>\n",
       "    </tr>\n",
       "    <tr>\n",
       "      <th>8397</th>\n",
       "      <td>0.051916</td>\n",
       "      <td>0.466071</td>\n",
       "      <td>0.432077</td>\n",
       "      <td>0.467894</td>\n",
       "      <td>0.528333</td>\n",
       "      <td>0.610952</td>\n",
       "      <td>0.668488</td>\n",
       "      <td>0.511801</td>\n",
       "      <td>0.435700</td>\n",
       "      <td>0.399467</td>\n",
       "      <td>...</td>\n",
       "      <td>0.000180</td>\n",
       "      <td>0.000207</td>\n",
       "      <td>0.000152</td>\n",
       "      <td>0.000121</td>\n",
       "      <td>0.000111</td>\n",
       "      <td>0.000094</td>\n",
       "      <td>0.000075</td>\n",
       "      <td>0.000037</td>\n",
       "      <td>0.000002</td>\n",
       "      <td>OAF_Pleasant_surprise</td>\n",
       "    </tr>\n",
       "    <tr>\n",
       "      <th>8398</th>\n",
       "      <td>0.051916</td>\n",
       "      <td>0.466146</td>\n",
       "      <td>0.432126</td>\n",
       "      <td>0.467960</td>\n",
       "      <td>0.528325</td>\n",
       "      <td>0.610963</td>\n",
       "      <td>0.668562</td>\n",
       "      <td>0.511833</td>\n",
       "      <td>0.435681</td>\n",
       "      <td>0.399605</td>\n",
       "      <td>...</td>\n",
       "      <td>0.000180</td>\n",
       "      <td>0.000207</td>\n",
       "      <td>0.000152</td>\n",
       "      <td>0.000121</td>\n",
       "      <td>0.000111</td>\n",
       "      <td>0.000094</td>\n",
       "      <td>0.000075</td>\n",
       "      <td>0.000037</td>\n",
       "      <td>0.000002</td>\n",
       "      <td>OAF_Pleasant_surprise</td>\n",
       "    </tr>\n",
       "  </tbody>\n",
       "</table>\n",
       "<p>8399 rows × 163 columns</p>\n",
       "</div>"
      ],
      "text/plain": [
       "             0         1         2         3         4         5         6  \\\n",
       "0     0.076508  0.425905  0.558566  0.627117  0.545209  0.460036  0.392065   \n",
       "1     0.175425  0.490825  0.676393  0.723008  0.630245  0.565593  0.475558   \n",
       "2     0.098185  0.446758  0.352680  0.381252  0.373236  0.489176  0.597108   \n",
       "3     0.080545  0.637043  0.402595  0.354304  0.439552  0.527001  0.354342   \n",
       "4     0.141326  0.720279  0.557174  0.444992  0.481960  0.578639  0.423770   \n",
       "...        ...       ...       ...       ...       ...       ...       ...   \n",
       "8394  0.108655  0.673711  0.554280  0.548467  0.536860  0.456404  0.388764   \n",
       "8395  0.124109  0.683944  0.562215  0.569900  0.559503  0.494660  0.409075   \n",
       "8396  0.130670  0.499005  0.549556  0.588037  0.637856  0.477407  0.550121   \n",
       "8397  0.051916  0.466071  0.432077  0.467894  0.528333  0.610952  0.668488   \n",
       "8398  0.051916  0.466146  0.432126  0.467960  0.528325  0.610963  0.668562   \n",
       "\n",
       "             7         8         9  ...       153       154       155  \\\n",
       "0     0.318045  0.290940  0.370484  ...  0.000295  0.000290  0.000281   \n",
       "1     0.417674  0.398990  0.488653  ...  0.000459  0.000458  0.000462   \n",
       "2     0.485667  0.428310  0.366864  ...  0.000216  0.000143  0.000109   \n",
       "3     0.337670  0.444431  0.447895  ...  0.000122  0.000083  0.000207   \n",
       "4     0.371503  0.473347  0.500792  ...  0.000376  0.000372  0.000468   \n",
       "...        ...       ...       ...  ...       ...       ...       ...   \n",
       "8394  0.365634  0.364626  0.430392  ...  0.000177  0.000192  0.000164   \n",
       "8395  0.390500  0.394605  0.435828  ...  0.000194  0.000206  0.000180   \n",
       "8396  0.462721  0.376556  0.342688  ...  0.000170  0.000218  0.000235   \n",
       "8397  0.511801  0.435700  0.399467  ...  0.000180  0.000207  0.000152   \n",
       "8398  0.511833  0.435681  0.399605  ...  0.000180  0.000207  0.000152   \n",
       "\n",
       "           156       157       158       159       160       161  \\\n",
       "0     0.000271  0.000135  0.000106  0.000114  0.000104  0.000009   \n",
       "1     0.000457  0.000328  0.000271  0.000296  0.000307  0.000205   \n",
       "2     0.000064  0.000101  0.000098  0.000046  0.000030  0.000002   \n",
       "3     0.000333  0.000209  0.000153  0.000108  0.000109  0.000008   \n",
       "4     0.000585  0.000449  0.000390  0.000341  0.000339  0.000265   \n",
       "...        ...       ...       ...       ...       ...       ...   \n",
       "8394  0.000187  0.000098  0.000054  0.000052  0.000040  0.000004   \n",
       "8395  0.000202  0.000111  0.000074  0.000069  0.000057  0.000020   \n",
       "8396  0.000184  0.000082  0.000059  0.000037  0.000024  0.000003   \n",
       "8397  0.000121  0.000111  0.000094  0.000075  0.000037  0.000002   \n",
       "8398  0.000121  0.000111  0.000094  0.000075  0.000037  0.000002   \n",
       "\n",
       "                   EMOTIONS  \n",
       "0                  OAF_Fear  \n",
       "1                  OAF_Fear  \n",
       "2                  OAF_Fear  \n",
       "3                 OAF_angry  \n",
       "4                 OAF_angry  \n",
       "...                     ...  \n",
       "8394              OAF_angry  \n",
       "8395              OAF_angry  \n",
       "8396              OAF_angry  \n",
       "8397  OAF_Pleasant_surprise  \n",
       "8398  OAF_Pleasant_surprise  \n",
       "\n",
       "[8399 rows x 163 columns]"
      ]
     },
     "execution_count": 31,
     "metadata": {},
     "output_type": "execute_result"
    }
   ],
   "source": [
    "New_Features_Wav.head(-1)"
   ]
  },
  {
   "cell_type": "code",
   "execution_count": 32,
   "id": "brown-prediction",
   "metadata": {
    "execution": {
     "iopub.execute_input": "2023-04-10T10:15:03.032926Z",
     "iopub.status.busy": "2023-04-10T10:15:03.032199Z",
     "iopub.status.idle": "2023-04-10T10:15:03.035216Z",
     "shell.execute_reply": "2023-04-10T10:15:03.035719Z",
     "shell.execute_reply.started": "2023-04-10T09:45:25.823511Z"
    },
    "id": "brown-prediction",
    "papermill": {
     "duration": 0.157163,
     "end_time": "2023-04-10T10:15:03.035914",
     "exception": false,
     "start_time": "2023-04-10T10:15:02.878751",
     "status": "completed"
    },
    "tags": []
   },
   "outputs": [
    {
     "name": "stdout",
     "output_type": "stream",
     "text": [
      "EMOTIONS\n",
      "OAF_Fear                  600\n",
      "OAF_angry                 600\n",
      "YAF_fear                  600\n",
      "YAF_sad                   600\n",
      "YAF_neutral               600\n",
      "YAF_angry                 600\n",
      "OAF_Sad                   600\n",
      "YAF_disgust               600\n",
      "YAF_pleasant_surprised    600\n",
      "YAF_happy                 600\n",
      "OAF_neutral               600\n",
      "OAF_Pleasant_surprise     600\n",
      "OAF_happy                 600\n",
      "OAF_disgust               600\n",
      "Name: count, dtype: int64\n"
     ]
    }
   ],
   "source": [
    "print(New_Features_Wav[\"EMOTIONS\"].value_counts())"
   ]
  },
  {
   "cell_type": "code",
   "execution_count": 33,
   "id": "recent-cement",
   "metadata": {
    "execution": {
     "iopub.execute_input": "2023-04-10T10:15:03.632086Z",
     "iopub.status.busy": "2023-04-10T10:15:03.631177Z",
     "iopub.status.idle": "2023-04-10T10:15:03.633387Z",
     "shell.execute_reply": "2023-04-10T10:15:03.634070Z",
     "shell.execute_reply.started": "2023-04-10T09:45:25.833194Z"
    },
    "id": "recent-cement",
    "papermill": {
     "duration": 0.155838,
     "end_time": "2023-04-10T10:15:03.634258",
     "exception": false,
     "start_time": "2023-04-10T10:15:03.478420",
     "status": "completed"
    },
    "tags": []
   },
   "outputs": [],
   "source": [
    "encoder_label = OneHotEncoder()"
   ]
  },
  {
   "cell_type": "code",
   "execution_count": 34,
   "id": "competent-example",
   "metadata": {
    "execution": {
     "iopub.execute_input": "2023-04-10T10:15:03.935981Z",
     "iopub.status.busy": "2023-04-10T10:15:03.935321Z",
     "iopub.status.idle": "2023-04-10T10:15:03.939739Z",
     "shell.execute_reply": "2023-04-10T10:15:03.940410Z",
     "shell.execute_reply.started": "2023-04-10T09:45:25.843845Z"
    },
    "executionInfo": {
     "elapsed": 3884,
     "status": "ok",
     "timestamp": 1683582635415,
     "user": {
      "displayName": "proj tes",
      "userId": "02393573603400182555"
     },
     "user_tz": -330
    },
    "id": "competent-example",
    "papermill": {
     "duration": 0.154562,
     "end_time": "2023-04-10T10:15:03.940661",
     "exception": false,
     "start_time": "2023-04-10T10:15:03.786099",
     "status": "completed"
    },
    "tags": []
   },
   "outputs": [],
   "source": [
    "scaler_data = StandardScaler()"
   ]
  },
  {
   "cell_type": "code",
   "execution_count": 35,
   "id": "alone-irrigation",
   "metadata": {
    "execution": {
     "iopub.execute_input": "2023-04-10T10:15:04.260484Z",
     "iopub.status.busy": "2023-04-10T10:15:04.259428Z",
     "iopub.status.idle": "2023-04-10T10:15:04.262106Z",
     "shell.execute_reply": "2023-04-10T10:15:04.262656Z",
     "shell.execute_reply.started": "2023-04-10T09:45:25.856103Z"
    },
    "id": "alone-irrigation",
    "papermill": {
     "duration": 0.173328,
     "end_time": "2023-04-10T10:15:04.262835",
     "exception": false,
     "start_time": "2023-04-10T10:15:04.089507",
     "status": "completed"
    },
    "tags": []
   },
   "outputs": [],
   "source": [
    "X = New_Features_Wav.iloc[:,:-1].values\n",
    "Y = New_Features_Wav[\"EMOTIONS\"].values"
   ]
  },
  {
   "cell_type": "code",
   "execution_count": 36,
   "id": "collectible-distinction",
   "metadata": {
    "colab": {
     "base_uri": "https://localhost:8080/"
    },
    "execution": {
     "iopub.execute_input": "2023-04-10T10:15:04.588034Z",
     "iopub.status.busy": "2023-04-10T10:15:04.587289Z",
     "iopub.status.idle": "2023-04-10T10:15:04.590860Z",
     "shell.execute_reply": "2023-04-10T10:15:04.590212Z",
     "shell.execute_reply.started": "2023-04-10T09:45:25.870352Z"
    },
    "executionInfo": {
     "elapsed": 20,
     "status": "ok",
     "timestamp": 1683582659476,
     "user": {
      "displayName": "proj tes",
      "userId": "02393573603400182555"
     },
     "user_tz": -330
    },
    "id": "collectible-distinction",
    "outputId": "879547e9-5c02-42bf-d290-2a5d594509c9",
    "papermill": {
     "duration": 0.167107,
     "end_time": "2023-04-10T10:15:04.591016",
     "exception": false,
     "start_time": "2023-04-10T10:15:04.423909",
     "status": "completed"
    },
    "tags": []
   },
   "outputs": [
    {
     "name": "stdout",
     "output_type": "stream",
     "text": [
      "(8400, 162)\n",
      "(8400,)\n"
     ]
    }
   ],
   "source": [
    "print(X.shape)\n",
    "print(Y.shape)"
   ]
  },
  {
   "cell_type": "code",
   "execution_count": 37,
   "id": "suspected-suggestion",
   "metadata": {
    "execution": {
     "iopub.execute_input": "2023-04-10T10:15:04.893926Z",
     "iopub.status.busy": "2023-04-10T10:15:04.893197Z",
     "iopub.status.idle": "2023-04-10T10:15:04.906489Z",
     "shell.execute_reply": "2023-04-10T10:15:04.907088Z",
     "shell.execute_reply.started": "2023-04-10T09:45:25.884752Z"
    },
    "executionInfo": {
     "elapsed": 18,
     "status": "ok",
     "timestamp": 1683582659476,
     "user": {
      "displayName": "proj tes",
      "userId": "02393573603400182555"
     },
     "user_tz": -330
    },
    "id": "suspected-suggestion",
    "papermill": {
     "duration": 0.166078,
     "end_time": "2023-04-10T10:15:04.907308",
     "exception": false,
     "start_time": "2023-04-10T10:15:04.741230",
     "status": "completed"
    },
    "tags": []
   },
   "outputs": [],
   "source": [
    "Y = encoder_label.fit_transform(np.array(Y).reshape(-1,1)).toarray()"
   ]
  },
  {
   "cell_type": "code",
   "execution_count": 38,
   "id": "devoted-poland",
   "metadata": {
    "colab": {
     "base_uri": "https://localhost:8080/"
    },
    "execution": {
     "iopub.execute_input": "2023-04-10T10:15:05.226729Z",
     "iopub.status.busy": "2023-04-10T10:15:05.226037Z",
     "iopub.status.idle": "2023-04-10T10:15:05.230537Z",
     "shell.execute_reply": "2023-04-10T10:15:05.231094Z",
     "shell.execute_reply.started": "2023-04-10T09:45:25.903238Z"
    },
    "executionInfo": {
     "elapsed": 18,
     "status": "ok",
     "timestamp": 1683582659477,
     "user": {
      "displayName": "proj tes",
      "userId": "02393573603400182555"
     },
     "user_tz": -330
    },
    "id": "devoted-poland",
    "outputId": "e8fad661-a2e6-4907-8c4f-b955148abed6",
    "papermill": {
     "duration": 0.156231,
     "end_time": "2023-04-10T10:15:05.231271",
     "exception": false,
     "start_time": "2023-04-10T10:15:05.075040",
     "status": "completed"
    },
    "tags": []
   },
   "outputs": [
    {
     "name": "stdout",
     "output_type": "stream",
     "text": [
      "(8400, 14)\n"
     ]
    }
   ],
   "source": [
    "print(Y.shape)"
   ]
  },
  {
   "cell_type": "code",
   "execution_count": 39,
   "id": "finished-reach",
   "metadata": {
    "execution": {
     "iopub.execute_input": "2023-04-10T10:15:05.536819Z",
     "iopub.status.busy": "2023-04-10T10:15:05.536150Z",
     "iopub.status.idle": "2023-04-10T10:15:05.554772Z",
     "shell.execute_reply": "2023-04-10T10:15:05.555325Z",
     "shell.execute_reply.started": "2023-04-10T09:45:25.914352Z"
    },
    "executionInfo": {
     "elapsed": 14,
     "status": "ok",
     "timestamp": 1683582659478,
     "user": {
      "displayName": "proj tes",
      "userId": "02393573603400182555"
     },
     "user_tz": -330
    },
    "id": "finished-reach",
    "papermill": {
     "duration": 0.175835,
     "end_time": "2023-04-10T10:15:05.555522",
     "exception": false,
     "start_time": "2023-04-10T10:15:05.379687",
     "status": "completed"
    },
    "tags": []
   },
   "outputs": [],
   "source": [
    "xTrain,xTest,yTrain,yTest = train_test_split(X,Y,train_size=0.9,random_state=42,shuffle=True)"
   ]
  },
  {
   "cell_type": "code",
   "execution_count": 40,
   "id": "private-grove",
   "metadata": {
    "execution": {
     "iopub.execute_input": "2023-04-10T10:15:05.859668Z",
     "iopub.status.busy": "2023-04-10T10:15:05.858946Z",
     "iopub.status.idle": "2023-04-10T10:15:05.861576Z",
     "shell.execute_reply": "2023-04-10T10:15:05.862119Z",
     "shell.execute_reply.started": "2023-04-10T09:45:25.939012Z"
    },
    "id": "private-grove",
    "papermill": {
     "duration": 0.157723,
     "end_time": "2023-04-10T10:15:05.862303",
     "exception": false,
     "start_time": "2023-04-10T10:15:05.704580",
     "status": "completed"
    },
    "tags": []
   },
   "outputs": [
    {
     "name": "stdout",
     "output_type": "stream",
     "text": [
      "(7560, 162)\n",
      "(7560, 14)\n",
      "(840, 162)\n",
      "(840, 14)\n"
     ]
    }
   ],
   "source": [
    "print(xTrain.shape)\n",
    "print(yTrain.shape)\n",
    "print(xTest.shape)\n",
    "print(yTest.shape)"
   ]
  },
  {
   "cell_type": "code",
   "execution_count": 41,
   "id": "potential-going",
   "metadata": {
    "execution": {
     "iopub.execute_input": "2023-04-10T10:15:06.164689Z",
     "iopub.status.busy": "2023-04-10T10:15:06.163914Z",
     "iopub.status.idle": "2023-04-10T10:15:06.194536Z",
     "shell.execute_reply": "2023-04-10T10:15:06.193795Z",
     "shell.execute_reply.started": "2023-04-10T09:45:25.947317Z"
    },
    "executionInfo": {
     "elapsed": 536,
     "status": "ok",
     "timestamp": 1683582660006,
     "user": {
      "displayName": "proj tes",
      "userId": "02393573603400182555"
     },
     "user_tz": -330
    },
    "id": "potential-going",
    "papermill": {
     "duration": 0.183289,
     "end_time": "2023-04-10T10:15:06.194690",
     "exception": false,
     "start_time": "2023-04-10T10:15:06.011401",
     "status": "completed"
    },
    "tags": []
   },
   "outputs": [],
   "source": [
    "xTrain = scaler_data.fit_transform(xTrain)\n",
    "xTest = scaler_data.transform(xTest)"
   ]
  },
  {
   "cell_type": "code",
   "execution_count": 42,
   "id": "exterior-property",
   "metadata": {
    "colab": {
     "base_uri": "https://localhost:8080/"
    },
    "execution": {
     "iopub.execute_input": "2023-04-10T10:15:06.503902Z",
     "iopub.status.busy": "2023-04-10T10:15:06.503192Z",
     "iopub.status.idle": "2023-04-10T10:15:06.507268Z",
     "shell.execute_reply": "2023-04-10T10:15:06.506604Z",
     "shell.execute_reply.started": "2023-04-10T09:45:25.987135Z"
    },
    "executionInfo": {
     "elapsed": 1115,
     "status": "ok",
     "timestamp": 1683582672273,
     "user": {
      "displayName": "proj tes",
      "userId": "02393573603400182555"
     },
     "user_tz": -330
    },
    "id": "exterior-property",
    "outputId": "19793cd8-bf83-4577-bfcf-c2ea7bbea7c3",
    "papermill": {
     "duration": 0.159874,
     "end_time": "2023-04-10T10:15:06.507423",
     "exception": false,
     "start_time": "2023-04-10T10:15:06.347549",
     "status": "completed"
    },
    "tags": []
   },
   "outputs": [
    {
     "name": "stdout",
     "output_type": "stream",
     "text": [
      "(7560, 162)\n",
      "(840, 162)\n"
     ]
    }
   ],
   "source": [
    "print(xTrain.shape)\n",
    "print(xTest.shape)"
   ]
  },
  {
   "cell_type": "code",
   "execution_count": 43,
   "id": "inner-hungary",
   "metadata": {
    "execution": {
     "iopub.execute_input": "2023-04-10T10:15:06.810355Z",
     "iopub.status.busy": "2023-04-10T10:15:06.809682Z",
     "iopub.status.idle": "2023-04-10T10:15:06.813159Z",
     "shell.execute_reply": "2023-04-10T10:15:06.812657Z",
     "shell.execute_reply.started": "2023-04-10T09:45:25.994312Z"
    },
    "executionInfo": {
     "elapsed": 9,
     "status": "ok",
     "timestamp": 1683582672274,
     "user": {
      "displayName": "proj tes",
      "userId": "02393573603400182555"
     },
     "user_tz": -330
    },
    "id": "inner-hungary",
    "papermill": {
     "duration": 0.15683,
     "end_time": "2023-04-10T10:15:06.813307",
     "exception": false,
     "start_time": "2023-04-10T10:15:06.656477",
     "status": "completed"
    },
    "tags": []
   },
   "outputs": [],
   "source": [
    "xTrain = np.expand_dims(xTrain,axis=2)\n",
    "xTest = np.expand_dims(xTest,axis=2)"
   ]
  },
  {
   "cell_type": "code",
   "execution_count": 44,
   "id": "widespread-tourist",
   "metadata": {
    "colab": {
     "base_uri": "https://localhost:8080/"
    },
    "execution": {
     "iopub.execute_input": "2023-04-10T10:15:07.116794Z",
     "iopub.status.busy": "2023-04-10T10:15:07.116101Z",
     "iopub.status.idle": "2023-04-10T10:15:07.120422Z",
     "shell.execute_reply": "2023-04-10T10:15:07.119754Z",
     "shell.execute_reply.started": "2023-04-10T09:45:26.006104Z"
    },
    "executionInfo": {
     "elapsed": 9,
     "status": "ok",
     "timestamp": 1683582672275,
     "user": {
      "displayName": "proj tes",
      "userId": "02393573603400182555"
     },
     "user_tz": -330
    },
    "id": "widespread-tourist",
    "outputId": "6769550d-2e26-49bf-f3da-2f8c50b1f968",
    "papermill": {
     "duration": 0.157973,
     "end_time": "2023-04-10T10:15:07.120564",
     "exception": false,
     "start_time": "2023-04-10T10:15:06.962591",
     "status": "completed"
    },
    "tags": []
   },
   "outputs": [
    {
     "name": "stdout",
     "output_type": "stream",
     "text": [
      "(7560, 162, 1)\n",
      "(840, 162, 1)\n"
     ]
    }
   ],
   "source": [
    "print(xTrain.shape)\n",
    "print(xTest.shape)"
   ]
  },
  {
   "cell_type": "code",
   "execution_count": 45,
   "id": "scenic-webster",
   "metadata": {
    "execution": {
     "iopub.execute_input": "2023-04-10T10:15:07.735542Z",
     "iopub.status.busy": "2023-04-10T10:15:07.734778Z",
     "iopub.status.idle": "2023-04-10T10:15:07.918339Z",
     "shell.execute_reply": "2023-04-10T10:15:07.917691Z",
     "shell.execute_reply.started": "2023-04-10T09:45:26.021031Z"
    },
    "executionInfo": {
     "elapsed": 1732,
     "status": "ok",
     "timestamp": 1683583524004,
     "user": {
      "displayName": "proj tes",
      "userId": "02393573603400182555"
     },
     "user_tz": -330
    },
    "id": "scenic-webster",
    "papermill": {
     "duration": 0.34315,
     "end_time": "2023-04-10T10:15:07.918508",
     "exception": false,
     "start_time": "2023-04-10T10:15:07.575358",
     "status": "completed"
    },
    "tags": []
   },
   "outputs": [
    {
     "name": "stdout",
     "output_type": "stream",
     "text": [
      "WARNING:tensorflow:From C:\\Users\\ARUN\\AppData\\Local\\anaconda3\\Lib\\site-packages\\keras\\src\\backend.py:873: The name tf.get_default_graph is deprecated. Please use tf.compat.v1.get_default_graph instead.\n",
      "\n",
      "WARNING:tensorflow:From C:\\Users\\ARUN\\AppData\\Local\\anaconda3\\Lib\\site-packages\\keras\\src\\backend.py:6642: The name tf.nn.max_pool is deprecated. Please use tf.nn.max_pool2d instead.\n",
      "\n"
     ]
    }
   ],
   "source": [
    "Model=Sequential()\n",
    "Model.add(Conv1D(256, kernel_size=5, strides=1, padding='same', activation='relu', input_shape=(xTrain.shape[1], 1)))\n",
    "Model.add(MaxPooling1D(pool_size=5, strides = 2, padding = 'same'))\n",
    "\n",
    "Model.add(Conv1D(256, kernel_size=5, strides=1, padding='same', activation='relu'))\n",
    "Model.add(MaxPooling1D(pool_size=5, strides = 2, padding = 'same'))\n",
    "\n",
    "Model.add(Conv1D(128, kernel_size=5, strides=1, padding='same', activation='relu'))\n",
    "Model.add(MaxPooling1D(pool_size=5, strides = 2, padding = 'same'))\n",
    "Model.add(Dropout(0.2))\n",
    "\n",
    "Model.add(Conv1D(64, kernel_size=5, strides=1, padding='same', activation='relu'))\n",
    "Model.add(MaxPooling1D(pool_size=5, strides = 2, padding = 'same'))\n",
    "\n",
    "Model.add(Flatten())\n",
    "Model.add(Dense(units=32, activation='relu'))\n",
    "Model.add(Dropout(0.3))\n",
    "\n",
    "Model.add(Dense(units=14, activation='softmax'))"
   ]
  },
  {
   "cell_type": "code",
   "execution_count": 46,
   "id": "dietary-garlic",
   "metadata": {
    "execution": {
     "iopub.execute_input": "2023-04-10T10:15:08.230254Z",
     "iopub.status.busy": "2023-04-10T10:15:08.228996Z",
     "iopub.status.idle": "2023-04-10T10:15:08.247107Z",
     "shell.execute_reply": "2023-04-10T10:15:08.247691Z",
     "shell.execute_reply.started": "2023-04-10T09:45:26.226253Z"
    },
    "executionInfo": {
     "elapsed": 4,
     "status": "ok",
     "timestamp": 1683583524004,
     "user": {
      "displayName": "proj tes",
      "userId": "02393573603400182555"
     },
     "user_tz": -330
    },
    "id": "dietary-garlic",
    "papermill": {
     "duration": 0.173744,
     "end_time": "2023-04-10T10:15:08.247914",
     "exception": false,
     "start_time": "2023-04-10T10:15:08.074170",
     "status": "completed"
    },
    "tags": []
   },
   "outputs": [
    {
     "name": "stdout",
     "output_type": "stream",
     "text": [
      "WARNING:tensorflow:From C:\\Users\\ARUN\\AppData\\Local\\anaconda3\\Lib\\site-packages\\keras\\src\\optimizers\\__init__.py:309: The name tf.train.Optimizer is deprecated. Please use tf.compat.v1.train.Optimizer instead.\n",
      "\n"
     ]
    }
   ],
   "source": [
    "Model.compile(optimizer = 'adam' , loss = 'categorical_crossentropy' , metrics = ['accuracy'])"
   ]
  },
  {
   "cell_type": "code",
   "execution_count": 47,
   "id": "surgical-supplement",
   "metadata": {
    "execution": {
     "iopub.execute_input": "2023-04-10T10:15:08.567073Z",
     "iopub.status.busy": "2023-04-10T10:15:08.566286Z",
     "iopub.status.idle": "2023-04-10T10:15:08.570751Z",
     "shell.execute_reply": "2023-04-10T10:15:08.571340Z",
     "shell.execute_reply.started": "2023-04-10T09:45:26.245462Z"
    },
    "executionInfo": {
     "elapsed": 5,
     "status": "ok",
     "timestamp": 1683583524005,
     "user": {
      "displayName": "proj tes",
      "userId": "02393573603400182555"
     },
     "user_tz": -330
    },
    "id": "surgical-supplement",
    "papermill": {
     "duration": 0.164682,
     "end_time": "2023-04-10T10:15:08.571545",
     "exception": false,
     "start_time": "2023-04-10T10:15:08.406863",
     "status": "completed"
    },
    "tags": []
   },
   "outputs": [],
   "source": [
    "early_stop = tf.keras.callbacks.EarlyStopping(monitor=\"loss\",patience=3,mode=\"min\")"
   ]
  },
  {
   "cell_type": "code",
   "execution_count": 48,
   "id": "aware-notice",
   "metadata": {
    "colab": {
     "base_uri": "https://localhost:8080/"
    },
    "execution": {
     "iopub.execute_input": "2023-04-10T10:15:08.895237Z",
     "iopub.status.busy": "2023-04-10T10:15:08.894155Z",
     "iopub.status.idle": "2023-04-10T10:21:24.043367Z",
     "shell.execute_reply": "2023-04-10T10:21:24.042557Z",
     "shell.execute_reply.started": "2023-04-10T09:45:26.253927Z"
    },
    "executionInfo": {
     "elapsed": 623874,
     "status": "ok",
     "timestamp": 1683584147875,
     "user": {
      "displayName": "proj tes",
      "userId": "02393573603400182555"
     },
     "user_tz": -330
    },
    "id": "aware-notice",
    "outputId": "d5365d86-016b-41fd-eeee-28bc5ee5f923",
    "papermill": {
     "duration": 375.313552,
     "end_time": "2023-04-10T10:21:24.043548",
     "exception": false,
     "start_time": "2023-04-10T10:15:08.729996",
     "status": "completed"
    },
    "tags": []
   },
   "outputs": [
    {
     "name": "stdout",
     "output_type": "stream",
     "text": [
      "Epoch 1/10\n",
      "WARNING:tensorflow:From C:\\Users\\ARUN\\AppData\\Local\\anaconda3\\Lib\\site-packages\\keras\\src\\utils\\tf_utils.py:492: The name tf.ragged.RaggedTensorValue is deprecated. Please use tf.compat.v1.ragged.RaggedTensorValue instead.\n",
      "\n",
      "WARNING:tensorflow:From C:\\Users\\ARUN\\AppData\\Local\\anaconda3\\Lib\\site-packages\\keras\\src\\engine\\base_layer_utils.py:384: The name tf.executing_eagerly_outside_functions is deprecated. Please use tf.compat.v1.executing_eagerly_outside_functions instead.\n",
      "\n",
      "119/119 [==============================] - 21s 126ms/step - loss: 1.8932 - accuracy: 0.3616 - val_loss: 0.8860 - val_accuracy: 0.7381\n",
      "Epoch 2/10\n",
      "119/119 [==============================] - 15s 125ms/step - loss: 0.8935 - accuracy: 0.6962 - val_loss: 0.3923 - val_accuracy: 0.8643\n",
      "Epoch 3/10\n",
      "119/119 [==============================] - 14s 117ms/step - loss: 0.5974 - accuracy: 0.7939 - val_loss: 0.2932 - val_accuracy: 0.9131\n",
      "Epoch 4/10\n",
      "119/119 [==============================] - 14s 120ms/step - loss: 0.4601 - accuracy: 0.8462 - val_loss: 0.2704 - val_accuracy: 0.9190\n",
      "Epoch 5/10\n",
      "119/119 [==============================] - 14s 117ms/step - loss: 0.3524 - accuracy: 0.8762 - val_loss: 0.1949 - val_accuracy: 0.9369\n",
      "Epoch 6/10\n",
      "119/119 [==============================] - 14s 119ms/step - loss: 0.3328 - accuracy: 0.8882 - val_loss: 0.1203 - val_accuracy: 0.9607\n",
      "Epoch 7/10\n",
      "119/119 [==============================] - 14s 120ms/step - loss: 0.2496 - accuracy: 0.9161 - val_loss: 0.1220 - val_accuracy: 0.9667\n",
      "Epoch 8/10\n",
      "119/119 [==============================] - 14s 120ms/step - loss: 0.2220 - accuracy: 0.9271 - val_loss: 0.1026 - val_accuracy: 0.9702\n",
      "Epoch 9/10\n",
      "119/119 [==============================] - 14s 119ms/step - loss: 0.1685 - accuracy: 0.9392 - val_loss: 0.0863 - val_accuracy: 0.9690\n",
      "Epoch 10/10\n",
      "119/119 [==============================] - 17s 140ms/step - loss: 0.1648 - accuracy: 0.9462 - val_loss: 0.0800 - val_accuracy: 0.9679\n"
     ]
    }
   ],
   "source": [
    "Conv1D_Model = Model.fit(xTrain, yTrain, batch_size=64, epochs=10, validation_data=(xTest, yTest), callbacks=[early_stop])"
   ]
  },
  {
   "cell_type": "code",
   "execution_count": 49,
   "id": "recreational-tokyo",
   "metadata": {
    "colab": {
     "base_uri": "https://localhost:8080/"
    },
    "execution": {
     "iopub.execute_input": "2023-04-10T10:21:27.056892Z",
     "iopub.status.busy": "2023-04-10T10:21:27.056182Z",
     "iopub.status.idle": "2023-04-10T10:21:27.069262Z",
     "shell.execute_reply": "2023-04-10T10:21:27.068554Z",
     "shell.execute_reply.started": "2023-04-10T09:58:43.319421Z"
    },
    "executionInfo": {
     "elapsed": 46,
     "status": "ok",
     "timestamp": 1683584147876,
     "user": {
      "displayName": "proj tes",
      "userId": "02393573603400182555"
     },
     "user_tz": -330
    },
    "id": "recreational-tokyo",
    "outputId": "4a2202bb-da9f-49fd-d50a-d508c4c550ff",
    "papermill": {
     "duration": 0.775037,
     "end_time": "2023-04-10T10:21:27.069415",
     "exception": false,
     "start_time": "2023-04-10T10:21:26.294378",
     "status": "completed"
    },
    "tags": []
   },
   "outputs": [
    {
     "name": "stdout",
     "output_type": "stream",
     "text": [
      "Model: \"sequential\"\n",
      "_________________________________________________________________\n",
      " Layer (type)                Output Shape              Param #   \n",
      "=================================================================\n",
      " conv1d (Conv1D)             (None, 162, 256)          1536      \n",
      "                                                                 \n",
      " max_pooling1d (MaxPooling1  (None, 81, 256)           0         \n",
      " D)                                                              \n",
      "                                                                 \n",
      " conv1d_1 (Conv1D)           (None, 81, 256)           327936    \n",
      "                                                                 \n",
      " max_pooling1d_1 (MaxPoolin  (None, 41, 256)           0         \n",
      " g1D)                                                            \n",
      "                                                                 \n",
      " conv1d_2 (Conv1D)           (None, 41, 128)           163968    \n",
      "                                                                 \n",
      " max_pooling1d_2 (MaxPoolin  (None, 21, 128)           0         \n",
      " g1D)                                                            \n",
      "                                                                 \n",
      " dropout (Dropout)           (None, 21, 128)           0         \n",
      "                                                                 \n",
      " conv1d_3 (Conv1D)           (None, 21, 64)            41024     \n",
      "                                                                 \n",
      " max_pooling1d_3 (MaxPoolin  (None, 11, 64)            0         \n",
      " g1D)                                                            \n",
      "                                                                 \n",
      " flatten (Flatten)           (None, 704)               0         \n",
      "                                                                 \n",
      " dense (Dense)               (None, 32)                22560     \n",
      "                                                                 \n",
      " dropout_1 (Dropout)         (None, 32)                0         \n",
      "                                                                 \n",
      " dense_1 (Dense)             (None, 14)                462       \n",
      "                                                                 \n",
      "=================================================================\n",
      "Total params: 557486 (2.13 MB)\n",
      "Trainable params: 557486 (2.13 MB)\n",
      "Non-trainable params: 0 (0.00 Byte)\n",
      "_________________________________________________________________\n"
     ]
    }
   ],
   "source": [
    "Model.summary()"
   ]
  },
  {
   "cell_type": "code",
   "execution_count": 50,
   "id": "specialized-threshold",
   "metadata": {
    "colab": {
     "base_uri": "https://localhost:8080/",
     "height": 468
    },
    "execution": {
     "iopub.execute_input": "2023-04-10T10:21:30.330773Z",
     "iopub.status.busy": "2023-04-10T10:21:30.329727Z",
     "iopub.status.idle": "2023-04-10T10:21:30.487399Z",
     "shell.execute_reply": "2023-04-10T10:21:30.487982Z",
     "shell.execute_reply.started": "2023-04-10T09:51:46.160211Z"
    },
    "executionInfo": {
     "elapsed": 48,
     "status": "ok",
     "timestamp": 1683584158838,
     "user": {
      "displayName": "proj tes",
      "userId": "02393573603400182555"
     },
     "user_tz": -330
    },
    "id": "specialized-threshold",
    "outputId": "1694cedb-cdd8-4048-d0f1-5a2504e492df",
    "papermill": {
     "duration": 0.929116,
     "end_time": "2023-04-10T10:21:30.488178",
     "exception": false,
     "start_time": "2023-04-10T10:21:29.559062",
     "status": "completed"
    },
    "tags": []
   },
   "outputs": [
    {
     "name": "stderr",
     "output_type": "stream",
     "text": [
      "No artists with labels found to put in legend.  Note that artists whose label start with an underscore are ignored when legend() is called with no argument.\n"
     ]
    },
    {
     "data": {
      "image/png": "[encoded data removed]",
      "text/plain": [
       "<Figure size 640x480 with 1 Axes>"
      ]
     },
     "metadata": {},
     "output_type": "display_data"
    }
   ],
   "source": [
    "plt.plot(Conv1D_Model.history[\"accuracy\"])\n",
    "plt.plot(Conv1D_Model.history[\"val_accuracy\"])\n",
    "plt.ylabel(\"ACCURACY\")\n",
    "plt.legend()\n",
    "plt.show()"
   ]
  },
  {
   "cell_type": "code",
   "execution_count": 101,
   "id": "downtown-clerk",
   "metadata": {
    "colab": {
     "base_uri": "https://localhost:8080/",
     "height": 467
    },
    "execution": {
     "iopub.execute_input": "2023-04-10T10:21:32.012821Z",
     "iopub.status.busy": "2023-04-10T10:21:32.012137Z",
     "iopub.status.idle": "2023-04-10T10:21:32.182170Z",
     "shell.execute_reply": "2023-04-10T10:21:32.181524Z",
     "shell.execute_reply.started": "2023-04-10T09:51:46.328633Z"
    },
    "executionInfo": {
     "elapsed": 45,
     "status": "ok",
     "timestamp": 1683584158839,
     "user": {
      "displayName": "proj tes",
      "userId": "02393573603400182555"
     },
     "user_tz": -330
    },
    "id": "downtown-clerk",
    "outputId": "2d424ede-0e1f-46be-d1a2-9ab771721e2d",
    "papermill": {
     "duration": 0.956283,
     "end_time": "2023-04-10T10:21:32.182351",
     "exception": false,
     "start_time": "2023-04-10T10:21:31.226068",
     "status": "completed"
    },
    "tags": []
   },
   "outputs": [
    {
     "name": "stderr",
     "output_type": "stream",
     "text": [
      "WARNING:matplotlib.legend:No artists with labels found to put in legend.  Note that artists whose label start with an underscore are ignored when legend() is called with no argument.\n"
     ]
    },
    {
     "data": {
      "image/png": "[encoded data removed]",
      "text/plain": [
       "<Figure size 640x480 with 1 Axes>"
      ]
     },
     "metadata": {},
     "output_type": "display_data"
    }
   ],
   "source": [
    "plt.plot(Conv1D_Model.history[\"loss\"])\n",
    "plt.plot(Conv1D_Model.history[\"val_loss\"])\n",
    "plt.ylabel(\"LOSS\")\n",
    "plt.legend()\n",
    "plt.show()"
   ]
  },
  {
   "cell_type": "code",
   "execution_count": null,
   "id": "53ed8436",
   "metadata": {},
   "outputs": [],
   "source": []
  },
  {
   "cell_type": "code",
   "execution_count": null,
   "id": "c6382f67",
   "metadata": {},
   "outputs": [],
   "source": []
  },
  {
   "cell_type": "code",
   "execution_count": null,
   "id": "6eaf3a3a",
   "metadata": {},
   "outputs": [],
   "source": []
  },
  {
   "cell_type": "code",
   "execution_count": 51,
   "id": "based-respect",
   "metadata": {
    "colab": {
     "base_uri": "https://localhost:8080/"
    },
    "execution": {
     "iopub.execute_input": "2023-04-10T10:21:37.296587Z",
     "iopub.status.busy": "2023-04-10T10:21:37.295886Z",
     "iopub.status.idle": "2023-04-10T10:21:37.997282Z",
     "shell.execute_reply": "2023-04-10T10:21:37.996646Z",
     "shell.execute_reply.started": "2023-04-10T09:51:47.213568Z"
    },
    "executionInfo": {
     "elapsed": 66,
     "status": "ok",
     "timestamp": 1683584160421,
     "user": {
      "displayName": "proj tes",
      "userId": "02393573603400182555"
     },
     "user_tz": -330
    },
    "id": "based-respect",
    "outputId": "4958cedf-5270-40b5-9ecb-6b309a803beb",
    "papermill": {
     "duration": 1.463751,
     "end_time": "2023-04-10T10:21:37.997449",
     "exception": false,
     "start_time": "2023-04-10T10:21:36.533698",
     "status": "completed"
    },
    "tags": []
   },
   "outputs": [
    {
     "name": "stdout",
     "output_type": "stream",
     "text": [
      "27/27 [==============================] - 1s 17ms/step\n"
     ]
    }
   ],
   "source": [
    "prediction_test = Model.predict(xTest)\n",
    "y_prediction = encoder_label.inverse_transform(prediction_test)\n",
    "\n",
    "yTest = encoder_label.inverse_transform(yTest)"
   ]
  },
  {
   "cell_type": "code",
   "execution_count": 52,
   "id": "spread-experience",
   "metadata": {
    "colab": {
     "base_uri": "https://localhost:8080/"
    },
    "execution": {
     "iopub.execute_input": "2023-04-10T10:21:41.020033Z",
     "iopub.status.busy": "2023-04-10T10:21:41.019284Z",
     "iopub.status.idle": "2023-04-10T10:21:41.022098Z",
     "shell.execute_reply": "2023-04-10T10:21:41.022655Z",
     "shell.execute_reply.started": "2023-04-10T09:51:48.002273Z"
    },
    "executionInfo": {
     "elapsed": 56,
     "status": "ok",
     "timestamp": 1683584160422,
     "user": {
      "displayName": "proj tes",
      "userId": "02393573603400182555"
     },
     "user_tz": -330
    },
    "id": "spread-experience",
    "outputId": "c32c0042-8503-42f4-bbbd-49c9fab5ccbd",
    "papermill": {
     "duration": 0.763517,
     "end_time": "2023-04-10T10:21:41.022830",
     "exception": false,
     "start_time": "2023-04-10T10:21:40.259313",
     "status": "completed"
    },
    "tags": []
   },
   "outputs": [
    {
     "name": "stdout",
     "output_type": "stream",
     "text": [
      "[['YAF_pleasant_surprised']\n",
      " ['OAF_happy']\n",
      " ['YAF_sad']\n",
      " ['YAF_pleasant_surprised']\n",
      " ['YAF_sad']\n",
      " ['YAF_neutral']\n",
      " ['OAF_Pleasant_surprise']\n",
      " ['OAF_Pleasant_surprise']\n",
      " ['YAF_angry']\n",
      " ['OAF_disgust']]\n"
     ]
    }
   ],
   "source": [
    "print(y_prediction[0:10])"
   ]
  },
  {
   "cell_type": "code",
   "execution_count": 53,
   "id": "quiet-melissa",
   "metadata": {
    "colab": {
     "base_uri": "https://localhost:8080/"
    },
    "execution": {
     "iopub.execute_input": "2023-04-10T10:21:42.585098Z",
     "iopub.status.busy": "2023-04-10T10:21:42.584404Z",
     "iopub.status.idle": "2023-04-10T10:21:42.587108Z",
     "shell.execute_reply": "2023-04-10T10:21:42.587735Z",
     "shell.execute_reply.started": "2023-04-10T09:51:48.012889Z"
    },
    "executionInfo": {
     "elapsed": 52,
     "status": "ok",
     "timestamp": 1683584160423,
     "user": {
      "displayName": "proj tes",
      "userId": "02393573603400182555"
     },
     "user_tz": -330
    },
    "id": "quiet-melissa",
    "outputId": "468e9728-d914-410b-d6b4-421a102ac44f",
    "papermill": {
     "duration": 0.762147,
     "end_time": "2023-04-10T10:21:42.587931",
     "exception": false,
     "start_time": "2023-04-10T10:21:41.825784",
     "status": "completed"
    },
    "tags": []
   },
   "outputs": [
    {
     "name": "stdout",
     "output_type": "stream",
     "text": [
      "[['YAF_pleasant_surprised']\n",
      " ['OAF_happy']\n",
      " ['YAF_sad']\n",
      " ['YAF_pleasant_surprised']\n",
      " ['YAF_sad']\n",
      " ['YAF_neutral']\n",
      " ['OAF_Pleasant_surprise']\n",
      " ['OAF_happy']\n",
      " ['YAF_angry']\n",
      " ['OAF_Pleasant_surprise']]\n"
     ]
    }
   ],
   "source": [
    "print(yTest[0:10])"
   ]
  },
  {
   "cell_type": "code",
   "execution_count": null,
   "id": "06e6e8f0",
   "metadata": {},
   "outputs": [],
   "source": []
  },
  {
   "cell_type": "code",
   "execution_count": null,
   "id": "73cd4fd1",
   "metadata": {},
   "outputs": [],
   "source": []
  }
 ],
 "metadata": {
  "colab": {
   "collapsed_sections": [
    "intimate-charter",
    "deadly-respect",
    "present-pierce",
    "enclosed-aviation",
    "ecological-australia",
    "known-missouri",
    "round-joyce",
    "married-headquarters",
    "cathedral-builder",
    "compliant-dover"
   ],
   "provenance": []
  },
  "kernelspec": {
   "display_name": "Python 3 (ipykernel)",
   "language": "python",
   "name": "python3"
  },
  "language_info": {
   "codemirror_mode": {
    "name": "ipython",
    "version": 3
   },
   "file_extension": ".py",
   "mimetype": "text/x-python",
   "name": "python",
   "nbconvert_exporter": "python",
   "pygments_lexer": "ipython3",
   "version": "3.11.5"
  },
  "papermill": {
   "default_parameters": {},
   "duration": 1370.777181,
   "end_time": "2023-04-10T10:22:05.449330",
   "environment_variables": {},
   "exception": null,
   "input_path": "__notebook__.ipynb",
   "output_path": "__notebook__.ipynb",
   "parameters": {},
   "start_time": "2023-04-10T09:59:14.672149",
   "version": "2.3.3"
  }
 },
 "nbformat": 4,
 "nbformat_minor": 5
}
