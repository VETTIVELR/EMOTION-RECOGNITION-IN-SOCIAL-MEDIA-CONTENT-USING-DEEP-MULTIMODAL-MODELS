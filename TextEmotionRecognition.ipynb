{
 "cells": [
  {
   "cell_type": "code",
   "execution_count": 1,
   "id": "c80558ac",
   "metadata": {},
   "outputs": [
    {
     "name": "stderr",
     "output_type": "stream",
     "text": [
      "[nltk_data] Downloading package punkt to\n",
      "[nltk_data]     C:\\Users\\ADMIN\\AppData\\Roaming\\nltk_data...\n",
      "[nltk_data]   Package punkt is already up-to-date!\n"
     ]
    }
   ],
   "source": [
    "import pandas as pd\n",
    "import numpy as np\n",
    "import re\n",
    "from keras.preprocessing.text import Tokenizer\n",
    "from keras.preprocessing.sequence import pad_sequences\n",
    "from tensorflow.keras.utils import to_categorical\n",
    "import zipfile\n",
    "import os\n",
    "from keras.models import Sequential\n",
    "from keras.layers import Embedding,Bidirectional,LSTM,GRU,Dense\n",
    "from sklearn.feature_extraction.text import TfidfVectorizer\n",
    "from sklearn.feature_extraction.text import CountVectorizer\n",
    "from sklearn.feature_extraction.text import TfidfTransformer\n",
    "from sklearn.pipeline import make_pipeline\n",
    "from sklearn.pipeline import Pipeline\n",
    "from sklearn import metrics\n",
    "import nltk\n",
    "from nltk.tokenize import word_tokenize\n",
    "import warnings\n",
    "import tensorflow as tf\n",
    "nltk.download('punkt')\n",
    "warnings.filterwarnings('ignore')"
   ]
  },
  {
   "cell_type": "code",
   "execution_count": 2,
   "id": "066a0a99",
   "metadata": {},
   "outputs": [],
   "source": [
    "dataset = pd.read_csv('train.txt')"
   ]
  },
  {
   "cell_type": "code",
   "execution_count": 3,
   "id": "685c107e",
   "metadata": {},
   "outputs": [
    {
     "data": {
      "text/html": [
       "<div>\n",
       "<style scoped>\n",
       "    .dataframe tbody tr th:only-of-type {\n",
       "        vertical-align: middle;\n",
       "    }\n",
       "\n",
       "    .dataframe tbody tr th {\n",
       "        vertical-align: top;\n",
       "    }\n",
       "\n",
       "    .dataframe thead th {\n",
       "        text-align: right;\n",
       "    }\n",
       "</style>\n",
       "<table border=\"1\" class=\"dataframe\">\n",
       "  <thead>\n",
       "    <tr style=\"text-align: right;\">\n",
       "      <th></th>\n",
       "      <th>i didnt feel humiliated;sadness</th>\n",
       "    </tr>\n",
       "  </thead>\n",
       "  <tbody>\n",
       "    <tr>\n",
       "      <th>0</th>\n",
       "      <td>i can go from feeling so hopeless to so damned...</td>\n",
       "    </tr>\n",
       "    <tr>\n",
       "      <th>1</th>\n",
       "      <td>im grabbing a minute to post i feel greedy wro...</td>\n",
       "    </tr>\n",
       "    <tr>\n",
       "      <th>2</th>\n",
       "      <td>i am ever feeling nostalgic about the fireplac...</td>\n",
       "    </tr>\n",
       "    <tr>\n",
       "      <th>3</th>\n",
       "      <td>i am feeling grouchy;anger</td>\n",
       "    </tr>\n",
       "    <tr>\n",
       "      <th>4</th>\n",
       "      <td>ive been feeling a little burdened lately wasn...</td>\n",
       "    </tr>\n",
       "    <tr>\n",
       "      <th>...</th>\n",
       "      <td>...</td>\n",
       "    </tr>\n",
       "    <tr>\n",
       "      <th>15994</th>\n",
       "      <td>i just had a very brief time in the beanbag an...</td>\n",
       "    </tr>\n",
       "    <tr>\n",
       "      <th>15995</th>\n",
       "      <td>i am now turning and i feel pathetic that i am...</td>\n",
       "    </tr>\n",
       "    <tr>\n",
       "      <th>15996</th>\n",
       "      <td>i feel strong and good overall;joy</td>\n",
       "    </tr>\n",
       "    <tr>\n",
       "      <th>15997</th>\n",
       "      <td>i feel like this was such a rude comment and i...</td>\n",
       "    </tr>\n",
       "    <tr>\n",
       "      <th>15998</th>\n",
       "      <td>i know a lot but i feel so stupid because i ca...</td>\n",
       "    </tr>\n",
       "  </tbody>\n",
       "</table>\n",
       "<p>15999 rows × 1 columns</p>\n",
       "</div>"
      ],
      "text/plain": [
       "                         i didnt feel humiliated;sadness\n",
       "0      i can go from feeling so hopeless to so damned...\n",
       "1      im grabbing a minute to post i feel greedy wro...\n",
       "2      i am ever feeling nostalgic about the fireplac...\n",
       "3                             i am feeling grouchy;anger\n",
       "4      ive been feeling a little burdened lately wasn...\n",
       "...                                                  ...\n",
       "15994  i just had a very brief time in the beanbag an...\n",
       "15995  i am now turning and i feel pathetic that i am...\n",
       "15996                 i feel strong and good overall;joy\n",
       "15997  i feel like this was such a rude comment and i...\n",
       "15998  i know a lot but i feel so stupid because i ca...\n",
       "\n",
       "[15999 rows x 1 columns]"
      ]
     },
     "execution_count": 3,
     "metadata": {},
     "output_type": "execute_result"
    }
   ],
   "source": [
    "dataset"
   ]
  },
  {
   "cell_type": "code",
   "execution_count": 4,
   "id": "f5d327de",
   "metadata": {},
   "outputs": [],
   "source": [
    "f=open('train.txt','r')\n",
    "x_train=[]\n",
    "y_train=[]\n",
    "for i in f:\n",
    "    l=i.split(';')\n",
    "    y_train.append(l[1].strip())\n",
    "    x_train.append(l[0])\n",
    "f=open('test.txt','r')\n",
    "x_test=[]\n",
    "y_test=[]\n",
    "for i in f:\n",
    "    l=i.split(';')\n",
    "    y_test.append(l[1].strip())\n",
    "    x_test.append(l[0])\n",
    "data_train=pd.DataFrame({'Text':x_train,'Emotion':y_train})\n",
    "data_test=pd.DataFrame({'Text':x_test,'Emotion':y_test})\n",
    "data=data_train.append(data_test,ignore_index=True)"
   ]
  },
  {
   "cell_type": "code",
   "execution_count": 5,
   "id": "0855687e",
   "metadata": {},
   "outputs": [
    {
     "data": {
      "text/html": [
       "<div>\n",
       "<style scoped>\n",
       "    .dataframe tbody tr th:only-of-type {\n",
       "        vertical-align: middle;\n",
       "    }\n",
       "\n",
       "    .dataframe tbody tr th {\n",
       "        vertical-align: top;\n",
       "    }\n",
       "\n",
       "    .dataframe thead th {\n",
       "        text-align: right;\n",
       "    }\n",
       "</style>\n",
       "<table border=\"1\" class=\"dataframe\">\n",
       "  <thead>\n",
       "    <tr style=\"text-align: right;\">\n",
       "      <th></th>\n",
       "      <th>Text</th>\n",
       "      <th>Emotion</th>\n",
       "    </tr>\n",
       "  </thead>\n",
       "  <tbody>\n",
       "    <tr>\n",
       "      <th>0</th>\n",
       "      <td>i didnt feel humiliated</td>\n",
       "      <td>sadness</td>\n",
       "    </tr>\n",
       "    <tr>\n",
       "      <th>1</th>\n",
       "      <td>i can go from feeling so hopeless to so damned...</td>\n",
       "      <td>sadness</td>\n",
       "    </tr>\n",
       "    <tr>\n",
       "      <th>2</th>\n",
       "      <td>im grabbing a minute to post i feel greedy wrong</td>\n",
       "      <td>anger</td>\n",
       "    </tr>\n",
       "    <tr>\n",
       "      <th>3</th>\n",
       "      <td>i am ever feeling nostalgic about the fireplac...</td>\n",
       "      <td>love</td>\n",
       "    </tr>\n",
       "    <tr>\n",
       "      <th>4</th>\n",
       "      <td>i am feeling grouchy</td>\n",
       "      <td>anger</td>\n",
       "    </tr>\n",
       "    <tr>\n",
       "      <th>...</th>\n",
       "      <td>...</td>\n",
       "      <td>...</td>\n",
       "    </tr>\n",
       "    <tr>\n",
       "      <th>17995</th>\n",
       "      <td>i just keep feeling like someone is being unki...</td>\n",
       "      <td>anger</td>\n",
       "    </tr>\n",
       "    <tr>\n",
       "      <th>17996</th>\n",
       "      <td>im feeling a little cranky negative after this...</td>\n",
       "      <td>anger</td>\n",
       "    </tr>\n",
       "    <tr>\n",
       "      <th>17997</th>\n",
       "      <td>i feel that i am useful to my people and that ...</td>\n",
       "      <td>joy</td>\n",
       "    </tr>\n",
       "    <tr>\n",
       "      <th>17998</th>\n",
       "      <td>im feeling more comfortable with derby i feel ...</td>\n",
       "      <td>joy</td>\n",
       "    </tr>\n",
       "    <tr>\n",
       "      <th>17999</th>\n",
       "      <td>i feel all weird when i have to meet w people ...</td>\n",
       "      <td>fear</td>\n",
       "    </tr>\n",
       "  </tbody>\n",
       "</table>\n",
       "<p>18000 rows × 2 columns</p>\n",
       "</div>"
      ],
      "text/plain": [
       "                                                    Text  Emotion\n",
       "0                                i didnt feel humiliated  sadness\n",
       "1      i can go from feeling so hopeless to so damned...  sadness\n",
       "2       im grabbing a minute to post i feel greedy wrong    anger\n",
       "3      i am ever feeling nostalgic about the fireplac...     love\n",
       "4                                   i am feeling grouchy    anger\n",
       "...                                                  ...      ...\n",
       "17995  i just keep feeling like someone is being unki...    anger\n",
       "17996  im feeling a little cranky negative after this...    anger\n",
       "17997  i feel that i am useful to my people and that ...      joy\n",
       "17998  im feeling more comfortable with derby i feel ...      joy\n",
       "17999  i feel all weird when i have to meet w people ...     fear\n",
       "\n",
       "[18000 rows x 2 columns]"
      ]
     },
     "execution_count": 5,
     "metadata": {},
     "output_type": "execute_result"
    }
   ],
   "source": [
    "data"
   ]
  },
  {
   "cell_type": "code",
   "execution_count": 6,
   "id": "5136f177",
   "metadata": {},
   "outputs": [],
   "source": [
    "def clean_data(data):\n",
    "    \n",
    "    url_pattern = re.compile(r'https?://\\S+|www\\.\\S+')\n",
    "    data = url_pattern.sub(r'', data)\n",
    "\n",
    "    # Remove Emails\n",
    "    data = re.sub('\\S*@\\S*\\s?', '', data)\n",
    "\n",
    "    # Remove new line characters\n",
    "    data = re.sub('\\s+', ' ', data)\n",
    "\n",
    "    # Remove distracting single quotes\n",
    "    data = re.sub(\"\\'\", \"\", data)\n",
    "    \n",
    "    data=re.sub(\"(\\\\d|\\\\W)+\",\" \",data)\n",
    "    data = re.sub(r'[?|$|.|!]',r'',data)\n",
    "    data = re.sub(r\"[-()\\\"#/@;:<>{}`+=~|.!?,]\", \"\", data)\n",
    "    \n",
    "    #data = re.sub('[^A-Za-z0-9]+', '', data)\n",
    "        \n",
    "    return data"
   ]
  },
  {
   "cell_type": "code",
   "execution_count": 7,
   "id": "1df5e14b",
   "metadata": {},
   "outputs": [],
   "source": [
    "def process_message(message, lower_case = True, stem = True, stop_words = True, gram = 2):\n",
    "    if lower_case:\n",
    "        message = message.lower()\n",
    "    words = word_tokenize(message)\n",
    "    words = [w for w in words if len(w) > 2]\n",
    "    if gram > 1:\n",
    "        w = []\n",
    "        for i in range(len(words) - gram + 1):\n",
    "            w += [' '.join(words[i:i + gram])]\n",
    "        return w\n",
    "    if stop_words:\n",
    "        sw = stopwords.words('english')\n",
    "        words = [word for word in words if word not in sw]\n",
    "    if stem:\n",
    "        stemmer = PorterStemmer()\n",
    "        words = [stemmer.stem(word) for word in words]   \n",
    "    return words"
   ]
  },
  {
   "cell_type": "code",
   "execution_count": 8,
   "id": "000603f9",
   "metadata": {},
   "outputs": [],
   "source": [
    "texts=[''.join(clean_data(text)) for text in data.Text]\n",
    "texts_train=[''.join(clean_data(text)) for text in x_train]\n",
    "texts_test=[''.join(clean_data(text)) for text in x_test]"
   ]
  },
  {
   "cell_type": "code",
   "execution_count": 9,
   "id": "1763d388",
   "metadata": {},
   "outputs": [
    {
     "name": "stdout",
     "output_type": "stream",
     "text": [
      "['i didnt feel humiliated', 'i can go from feeling so hopeless to so damned hopeful just from being around someone who cares and is awake', 'im grabbing a minute to post i feel greedy wrong', 'i am ever feeling nostalgic about the fireplace i will know that it is still on the property', 'i am feeling grouchy', 'ive been feeling a little burdened lately wasnt sure why that was', 'ive been taking or milligrams or times recommended amount and ive fallen asleep a lot faster but i also feel like so funny', 'i feel as confused about life as a teenager or as jaded as a year old man', 'i have been with petronas for years i feel that petronas has performed well and made a huge profit', 'i feel romantic too']\n"
     ]
    }
   ],
   "source": [
    "print(texts[:10])"
   ]
  },
  {
   "cell_type": "code",
   "execution_count": 10,
   "id": "dec59e71",
   "metadata": {},
   "outputs": [
    {
     "name": "stdout",
     "output_type": "stream",
     "text": [
      "['i didnt feel humiliated', 'i can go from feeling so hopeless to so damned hopeful just from being around someone who cares and is awake', 'im grabbing a minute to post i feel greedy wrong', 'i am ever feeling nostalgic about the fireplace i will know that it is still on the property', 'i am feeling grouchy', 'ive been feeling a little burdened lately wasnt sure why that was', 'ive been taking or milligrams or times recommended amount and ive fallen asleep a lot faster but i also feel like so funny', 'i feel as confused about life as a teenager or as jaded as a year old man', 'i have been with petronas for years i feel that petronas has performed well and made a huge profit', 'i feel romantic too']\n"
     ]
    }
   ],
   "source": [
    "print(texts_train[:10])"
   ]
  },
  {
   "cell_type": "code",
   "execution_count": 11,
   "id": "5ee17b3b",
   "metadata": {},
   "outputs": [
    {
     "name": "stdout",
     "output_type": "stream",
     "text": [
      "['im feeling rather rotten so im not very ambitious right now', 'im updating my blog because i feel shitty', 'i never make her separate from me because i don t ever want her to feel like i m ashamed with her', 'i left with my bouquet of red and yellow tulips under my arm feeling slightly more optimistic than when i arrived', 'i was feeling a little vain when i did this one', 'i cant walk into a shop anywhere where i do not feel uncomfortable', 'i felt anger when at the end of a telephone call', 'i explain why i clung to a relationship with a boy who was in many ways immature and uncommitted despite the excitement i should have been feeling for getting accepted into the masters program at the university of virginia', 'i like to have the same breathless feeling as a reader eager to see what will happen next', 'i jest i feel grumpy tired and pre menstrual which i probably am but then again its only been a week and im about as fit as a walrus on vacation for the summer']\n"
     ]
    }
   ],
   "source": [
    "print(texts_test[:10])"
   ]
  },
  {
   "cell_type": "code",
   "execution_count": 12,
   "id": "d3f53af5",
   "metadata": {},
   "outputs": [],
   "source": [
    "texts=[' '.join(process_message(text)) for text in data.Text]\n",
    "texts_train=[' '.join(process_message(text)) for text in x_train]\n",
    "texts_test=[' '.join(process_message(text)) for text in x_test]"
   ]
  },
  {
   "cell_type": "code",
   "execution_count": 13,
   "id": "3767e7b3",
   "metadata": {},
   "outputs": [
    {
     "name": "stdout",
     "output_type": "stream",
     "text": [
      "['didnt feel feel humiliated', 'can from from feeling feeling hopeless hopeless damned damned hopeful hopeful just just from from being being around around someone someone who who cares cares and and awake', 'grabbing minute minute post post feel feel greedy greedy wrong', 'ever feeling feeling nostalgic nostalgic about about the the fireplace fireplace will will know know that that still still the the property', 'feeling grouchy', 'ive been been feeling feeling little little burdened burdened lately lately wasnt wasnt sure sure why why that that was', 'ive been been taking taking milligrams milligrams times times recommended recommended amount amount and and ive ive fallen fallen asleep asleep lot lot faster faster but but also also feel feel like like funny', 'feel confused confused about about life life teenager teenager jaded jaded year year old old man', 'have been been with with petronas petronas for for years years feel feel that that petronas petronas has has performed performed well well and and made made huge huge profit', 'feel romantic romantic too']\n"
     ]
    }
   ],
   "source": [
    "print(texts[:10])"
   ]
  },
  {
   "cell_type": "code",
   "execution_count": 14,
   "id": "95dcbe60",
   "metadata": {},
   "outputs": [
    {
     "name": "stdout",
     "output_type": "stream",
     "text": [
      "['didnt feel feel humiliated', 'can from from feeling feeling hopeless hopeless damned damned hopeful hopeful just just from from being being around around someone someone who who cares cares and and awake', 'grabbing minute minute post post feel feel greedy greedy wrong', 'ever feeling feeling nostalgic nostalgic about about the the fireplace fireplace will will know know that that still still the the property', 'feeling grouchy', 'ive been been feeling feeling little little burdened burdened lately lately wasnt wasnt sure sure why why that that was', 'ive been been taking taking milligrams milligrams times times recommended recommended amount amount and and ive ive fallen fallen asleep asleep lot lot faster faster but but also also feel feel like like funny', 'feel confused confused about about life life teenager teenager jaded jaded year year old old man', 'have been been with with petronas petronas for for years years feel feel that that petronas petronas has has performed performed well well and and made made huge huge profit', 'feel romantic romantic too']\n"
     ]
    }
   ],
   "source": [
    "print(texts_train[:10])"
   ]
  },
  {
   "cell_type": "code",
   "execution_count": 15,
   "id": "c17c5f8f",
   "metadata": {},
   "outputs": [
    {
     "name": "stdout",
     "output_type": "stream",
     "text": [
      "['feeling rather rather rotten rotten not not very very ambitious ambitious right right now', 'updating blog blog because because feel feel shitty', 'never make make her her separate separate from from because because don don ever ever want want her her feel feel like like ashamed ashamed with with her', 'left with with bouquet bouquet red red and and yellow yellow tulips tulips under under arm arm feeling feeling slightly slightly more more optimistic optimistic than than when when arrived', 'was feeling feeling little little vain vain when when did did this this one', 'cant walk walk into into shop shop anywhere anywhere where where not not feel feel uncomfortable', 'felt anger anger when when the the end end telephone telephone call', 'explain why why clung clung relationship relationship with with boy boy who who was was many many ways ways immature immature and and uncommitted uncommitted despite despite the the excitement excitement should should have have been been feeling feeling for for getting getting accepted accepted into into the the masters masters program program the the university university virginia', 'like have have the the same same breathless breathless feeling feeling reader reader eager eager see see what what will will happen happen next', 'jest feel feel grumpy grumpy tired tired and and pre pre menstrual menstrual which which probably probably but but then then again again its its only only been been week week and and about about fit fit walrus walrus vacation vacation for for the the summer']\n"
     ]
    }
   ],
   "source": [
    "print(texts_test[:10])"
   ]
  },
  {
   "cell_type": "code",
   "execution_count": 16,
   "id": "e792f8f7",
   "metadata": {},
   "outputs": [],
   "source": [
    "class_names=['anger','sadness','fear','joy','surprise','love']"
   ]
  },
  {
   "cell_type": "code",
   "execution_count": 21,
   "id": "2f131049",
   "metadata": {},
   "outputs": [],
   "source": [
    "from sklearn.svm import SVC\n",
    "text_clf = Pipeline([('vect', CountVectorizer()), ('tfidf', TfidfTransformer()), ('clf', SVC(kernel='rbf'))])\n",
    "\n",
    "text_clf.fit(x_train, y_train)\n",
    "\n",
    "svcpredicted = text_clf.predict(x_test)"
   ]
  },
  {
   "cell_type": "code",
   "execution_count": 22,
   "id": "f0bb391f",
   "metadata": {},
   "outputs": [
    {
     "name": "stdout",
     "output_type": "stream",
     "text": [
      "['sadness' 'sadness' 'sadness' ... 'joy' 'joy' 'fear']\n"
     ]
    }
   ],
   "source": [
    "print(svcpredicted)"
   ]
  },
  {
   "cell_type": "code",
   "execution_count": 23,
   "id": "503f751f",
   "metadata": {},
   "outputs": [
    {
     "name": "stdout",
     "output_type": "stream",
     "text": [
      "['anger']\n"
     ]
    }
   ],
   "source": [
    "svc1result = text_clf.predict(['i think it s the easiest time of year to feel dissatisfied'])\n",
    "print(svc1result)"
   ]
  }
 ],
 "metadata": {
  "kernelspec": {
   "display_name": "Python 3 (ipykernel)",
   "language": "python",
   "name": "python3"
  },
  "language_info": {
   "codemirror_mode": {
    "name": "ipython",
    "version": 3
   },
   "file_extension": ".py",
   "mimetype": "text/x-python",
   "name": "python",
   "nbconvert_exporter": "python",
   "pygments_lexer": "ipython3",
   "version": "3.9.7"
  }
 },
 "nbformat": 4,
 "nbformat_minor": 5
}
